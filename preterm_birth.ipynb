{
 "cells": [
  {
   "cell_type": "markdown",
   "metadata": {
    "colab_type": "text",
    "id": "SkjRWmXIb9Qq"
   },
   "source": [
    "# Prediction of preterm birth\n",
    "\n",
    "This notebook along with a r script contains the process of predicting preterm birth using whole blood gene expression data collected from pregnant women to develop prediction models for the gestational age at blood draw.\n"
   ]
  },
  {
   "cell_type": "markdown",
   "metadata": {
    "colab_type": "text",
    "id": "f1cSiZ9gZ1xp"
   },
   "source": [
    "## Exploratory data analysis (EDA)\n",
    "\n",
    "The data information is summarized below\n",
    "\n",
    "\n",
    "It should contain the following files:\n",
    "\n",
    "* `co-genes.csv`: genes expression information of 3 clustered modules from 94 most differentially expressed genes of each sample\n",
    "* `anoSC2_v20_nokey.csv`: annotation information of each patient and sample including group(i.e control or preterm), train(i.e train or test data),gestational information etc.\n",
    "* `geneExpression.csv`: Normalized values of RNASeq data of each sample \n"
   ]
  },
  {
   "cell_type": "code",
   "execution_count": 79,
   "metadata": {
    "colab": {},
    "colab_type": "code",
    "id": "ft0kcheZb9Q2"
   },
   "outputs": [],
   "source": [
    "from pathlib import Path\n",
    "import numpy as np\n",
    "# Change this to where you download the files\n",
    "DATA = Path(\"./data\")\n",
    "PRED = Path(\"./predictions\")"
   ]
  },
  {
   "cell_type": "code",
   "execution_count": 2,
   "metadata": {
    "colab": {},
    "colab_type": "code",
    "id": "nYKz9fwpb9RE",
    "outputId": "276355ba-2ef2-4311-8d10-e7032bff6e13"
   },
   "outputs": [
    {
     "data": {
      "text/html": [
       "<div>\n",
       "<style scoped>\n",
       "    .dataframe tbody tr th:only-of-type {\n",
       "        vertical-align: middle;\n",
       "    }\n",
       "\n",
       "    .dataframe tbody tr th {\n",
       "        vertical-align: top;\n",
       "    }\n",
       "\n",
       "    .dataframe thead th {\n",
       "        text-align: right;\n",
       "    }\n",
       "</style>\n",
       "<table border=\"1\" class=\"dataframe\">\n",
       "  <thead>\n",
       "    <tr style=\"text-align: right;\">\n",
       "      <th></th>\n",
       "      <th>MEblue</th>\n",
       "      <th>MEturquoise</th>\n",
       "      <th>MEgrey</th>\n",
       "    </tr>\n",
       "  </thead>\n",
       "  <tbody>\n",
       "    <tr>\n",
       "      <td>GSM1437802</td>\n",
       "      <td>0.073052</td>\n",
       "      <td>-0.000503</td>\n",
       "      <td>-0.011849</td>\n",
       "    </tr>\n",
       "    <tr>\n",
       "      <td>GSM1437801</td>\n",
       "      <td>0.001878</td>\n",
       "      <td>-0.022997</td>\n",
       "      <td>0.017817</td>\n",
       "    </tr>\n",
       "    <tr>\n",
       "      <td>GSM1437804</td>\n",
       "      <td>0.056942</td>\n",
       "      <td>0.066491</td>\n",
       "      <td>-0.044825</td>\n",
       "    </tr>\n",
       "    <tr>\n",
       "      <td>GSM1437803</td>\n",
       "      <td>0.052427</td>\n",
       "      <td>0.054722</td>\n",
       "      <td>-0.042404</td>\n",
       "    </tr>\n",
       "    <tr>\n",
       "      <td>GSM1437806</td>\n",
       "      <td>-0.018788</td>\n",
       "      <td>-0.030588</td>\n",
       "      <td>0.000516</td>\n",
       "    </tr>\n",
       "  </tbody>\n",
       "</table>\n",
       "</div>"
      ],
      "text/plain": [
       "              MEblue  MEturquoise    MEgrey\n",
       "GSM1437802  0.073052    -0.000503 -0.011849\n",
       "GSM1437801  0.001878    -0.022997  0.017817\n",
       "GSM1437804  0.056942     0.066491 -0.044825\n",
       "GSM1437803  0.052427     0.054722 -0.042404\n",
       "GSM1437806 -0.018788    -0.030588  0.000516"
      ]
     },
     "execution_count": 2,
     "metadata": {},
     "output_type": "execute_result"
    }
   ],
   "source": [
    "import pandas as pd\n",
    "\n",
    "# co-genes.csv contains three eigengenes modules. \n",
    "# To create co-genes.csv, we first input the entire eset gene expression matrix and annoSC2 files into a r script\n",
    "# We use limma package to find out the top 94 genes that are over-expressed in either control or preterm samples\n",
    "# Then we use WGCNA package to cluster the 94 genes and combine co-expressed genes into corresponding modules\n",
    "# The final results are three eigengenes, two signed and one unsigned stored in co-genes.csv\n",
    "coExpr = pd.read_csv(DATA/\"co-genes.csv\")\n",
    "coExpr = coExpr.set_index('Unnamed: 0')\n",
    "coExpr.index.names = [None] \n",
    "coExpr.head()"
   ]
  },
  {
   "cell_type": "code",
   "execution_count": 3,
   "metadata": {
    "colab": {},
    "colab_type": "code",
    "id": "gCW-TP1ob9Rd",
    "outputId": "3ffd767c-1e4b-4111-cf5f-fe01c80b9c85"
   },
   "outputs": [
    {
     "data": {
      "text/html": [
       "<div>\n",
       "<style scoped>\n",
       "    .dataframe tbody tr th:only-of-type {\n",
       "        vertical-align: middle;\n",
       "    }\n",
       "\n",
       "    .dataframe tbody tr th {\n",
       "        vertical-align: top;\n",
       "    }\n",
       "\n",
       "    .dataframe thead th {\n",
       "        text-align: right;\n",
       "    }\n",
       "</style>\n",
       "<table border=\"1\" class=\"dataframe\">\n",
       "  <thead>\n",
       "    <tr style=\"text-align: right;\">\n",
       "      <th></th>\n",
       "      <th>GSM1437802</th>\n",
       "      <th>GSM1437801</th>\n",
       "      <th>GSM1437804</th>\n",
       "      <th>GSM1437803</th>\n",
       "      <th>GSM1437806</th>\n",
       "      <th>GSM1437805</th>\n",
       "      <th>GSM1437808</th>\n",
       "      <th>GSM1437807</th>\n",
       "      <th>GSM1437810</th>\n",
       "      <th>GSM1437809</th>\n",
       "      <th>...</th>\n",
       "      <th>Tarca_008_P1A08</th>\n",
       "      <th>Tarca_091_P1H07</th>\n",
       "      <th>Tarca_492_P6D02</th>\n",
       "      <th>Tarca_491_P6C02</th>\n",
       "      <th>Tarca_506_P6B04</th>\n",
       "      <th>Tarca_920_P10H07</th>\n",
       "      <th>Tarca_919_P10G07</th>\n",
       "      <th>Tarca_918_P10F07</th>\n",
       "      <th>Tarca_917_P10E07</th>\n",
       "      <th>Tarca_916_P10D07</th>\n",
       "    </tr>\n",
       "  </thead>\n",
       "  <tbody>\n",
       "    <tr>\n",
       "      <td>1</td>\n",
       "      <td>5.673714</td>\n",
       "      <td>5.657469</td>\n",
       "      <td>5.263798</td>\n",
       "      <td>5.621857</td>\n",
       "      <td>5.746427</td>\n",
       "      <td>5.382171</td>\n",
       "      <td>5.977089</td>\n",
       "      <td>5.771783</td>\n",
       "      <td>5.511752</td>\n",
       "      <td>5.302418</td>\n",
       "      <td>...</td>\n",
       "      <td>5.788344</td>\n",
       "      <td>5.543969</td>\n",
       "      <td>5.128486</td>\n",
       "      <td>5.343032</td>\n",
       "      <td>5.577095</td>\n",
       "      <td>5.767927</td>\n",
       "      <td>5.982427</td>\n",
       "      <td>5.869221</td>\n",
       "      <td>5.871484</td>\n",
       "      <td>5.752629</td>\n",
       "    </tr>\n",
       "    <tr>\n",
       "      <td>10</td>\n",
       "      <td>3.722012</td>\n",
       "      <td>3.027650</td>\n",
       "      <td>3.095365</td>\n",
       "      <td>3.429769</td>\n",
       "      <td>2.938438</td>\n",
       "      <td>3.055553</td>\n",
       "      <td>2.838617</td>\n",
       "      <td>2.977819</td>\n",
       "      <td>2.944549</td>\n",
       "      <td>2.977487</td>\n",
       "      <td>...</td>\n",
       "      <td>2.919084</td>\n",
       "      <td>2.970130</td>\n",
       "      <td>2.714327</td>\n",
       "      <td>3.012835</td>\n",
       "      <td>2.918379</td>\n",
       "      <td>2.973631</td>\n",
       "      <td>3.044613</td>\n",
       "      <td>3.321144</td>\n",
       "      <td>3.039177</td>\n",
       "      <td>2.976313</td>\n",
       "    </tr>\n",
       "    <tr>\n",
       "      <td>100</td>\n",
       "      <td>6.844537</td>\n",
       "      <td>6.979622</td>\n",
       "      <td>7.311993</td>\n",
       "      <td>7.406321</td>\n",
       "      <td>7.155013</td>\n",
       "      <td>6.930386</td>\n",
       "      <td>7.300295</td>\n",
       "      <td>7.156051</td>\n",
       "      <td>7.512933</td>\n",
       "      <td>7.163658</td>\n",
       "      <td>...</td>\n",
       "      <td>7.328793</td>\n",
       "      <td>7.189998</td>\n",
       "      <td>7.414430</td>\n",
       "      <td>7.559631</td>\n",
       "      <td>7.511595</td>\n",
       "      <td>7.325456</td>\n",
       "      <td>7.149270</td>\n",
       "      <td>7.130817</td>\n",
       "      <td>7.139528</td>\n",
       "      <td>7.203337</td>\n",
       "    </tr>\n",
       "    <tr>\n",
       "      <td>1000</td>\n",
       "      <td>4.209495</td>\n",
       "      <td>3.973889</td>\n",
       "      <td>4.126598</td>\n",
       "      <td>3.721685</td>\n",
       "      <td>3.899342</td>\n",
       "      <td>4.073817</td>\n",
       "      <td>3.811101</td>\n",
       "      <td>3.766648</td>\n",
       "      <td>4.029314</td>\n",
       "      <td>4.153578</td>\n",
       "      <td>...</td>\n",
       "      <td>3.718119</td>\n",
       "      <td>3.714274</td>\n",
       "      <td>3.902793</td>\n",
       "      <td>3.870281</td>\n",
       "      <td>3.860453</td>\n",
       "      <td>4.062084</td>\n",
       "      <td>4.034426</td>\n",
       "      <td>4.021482</td>\n",
       "      <td>3.999080</td>\n",
       "      <td>3.980084</td>\n",
       "    </tr>\n",
       "    <tr>\n",
       "      <td>10000</td>\n",
       "      <td>6.915998</td>\n",
       "      <td>6.820816</td>\n",
       "      <td>6.785624</td>\n",
       "      <td>6.665341</td>\n",
       "      <td>6.637787</td>\n",
       "      <td>6.552980</td>\n",
       "      <td>6.695902</td>\n",
       "      <td>6.714650</td>\n",
       "      <td>6.564450</td>\n",
       "      <td>6.640959</td>\n",
       "      <td>...</td>\n",
       "      <td>6.596466</td>\n",
       "      <td>6.693787</td>\n",
       "      <td>7.315201</td>\n",
       "      <td>7.284721</td>\n",
       "      <td>6.636553</td>\n",
       "      <td>6.501599</td>\n",
       "      <td>6.297040</td>\n",
       "      <td>6.600034</td>\n",
       "      <td>6.229878</td>\n",
       "      <td>6.284294</td>\n",
       "    </tr>\n",
       "  </tbody>\n",
       "</table>\n",
       "<p>5 rows × 739 columns</p>\n",
       "</div>"
      ],
      "text/plain": [
       "       GSM1437802  GSM1437801  GSM1437804  GSM1437803  GSM1437806  GSM1437805  \\\n",
       "1        5.673714    5.657469    5.263798    5.621857    5.746427    5.382171   \n",
       "10       3.722012    3.027650    3.095365    3.429769    2.938438    3.055553   \n",
       "100      6.844537    6.979622    7.311993    7.406321    7.155013    6.930386   \n",
       "1000     4.209495    3.973889    4.126598    3.721685    3.899342    4.073817   \n",
       "10000    6.915998    6.820816    6.785624    6.665341    6.637787    6.552980   \n",
       "\n",
       "       GSM1437808  GSM1437807  GSM1437810  GSM1437809  ...  Tarca_008_P1A08  \\\n",
       "1        5.977089    5.771783    5.511752    5.302418  ...         5.788344   \n",
       "10       2.838617    2.977819    2.944549    2.977487  ...         2.919084   \n",
       "100      7.300295    7.156051    7.512933    7.163658  ...         7.328793   \n",
       "1000     3.811101    3.766648    4.029314    4.153578  ...         3.718119   \n",
       "10000    6.695902    6.714650    6.564450    6.640959  ...         6.596466   \n",
       "\n",
       "       Tarca_091_P1H07  Tarca_492_P6D02  Tarca_491_P6C02  Tarca_506_P6B04  \\\n",
       "1             5.543969         5.128486         5.343032         5.577095   \n",
       "10            2.970130         2.714327         3.012835         2.918379   \n",
       "100           7.189998         7.414430         7.559631         7.511595   \n",
       "1000          3.714274         3.902793         3.870281         3.860453   \n",
       "10000         6.693787         7.315201         7.284721         6.636553   \n",
       "\n",
       "       Tarca_920_P10H07  Tarca_919_P10G07  Tarca_918_P10F07  Tarca_917_P10E07  \\\n",
       "1              5.767927          5.982427          5.869221          5.871484   \n",
       "10             2.973631          3.044613          3.321144          3.039177   \n",
       "100            7.325456          7.149270          7.130817          7.139528   \n",
       "1000           4.062084          4.034426          4.021482          3.999080   \n",
       "10000          6.501599          6.297040          6.600034          6.229878   \n",
       "\n",
       "       Tarca_916_P10D07  \n",
       "1              5.752629  \n",
       "10             2.976313  \n",
       "100            7.203337  \n",
       "1000           3.980084  \n",
       "10000          6.284294  \n",
       "\n",
       "[5 rows x 739 columns]"
      ]
     },
     "execution_count": 3,
     "metadata": {},
     "output_type": "execute_result"
    }
   ],
   "source": [
    "# input the original eset data matrix and remove the _at suffix from row names/gene IDs\n",
    "dataExpr = pd.read_csv(DATA/\"geneExpression.csv\") \n",
    "dataExpr = dataExpr.set_index('Unnamed: 0')\n",
    "dataExpr.index.names = [None] \n",
    "dataExpr = dataExpr.rename(index = lambda x: x.strip('_at'))\n",
    "dataExpr.head()"
   ]
  },
  {
   "cell_type": "code",
   "execution_count": 4,
   "metadata": {
    "colab": {},
    "colab_type": "code",
    "id": "-W-rfRf7b9Rn"
   },
   "outputs": [],
   "source": [
    "# Input the annotation file that contains group information and gestation age\n",
    "annoSC2 = pd.read_csv(DATA/\"anoSC2_v20_nokey.csv\")"
   ]
  },
  {
   "cell_type": "code",
   "execution_count": 5,
   "metadata": {
    "colab": {},
    "colab_type": "code",
    "id": "BCjh1jh_b9Rx"
   },
   "outputs": [],
   "source": [
    "# Split the file into test and training sets\n",
    "annoSC2_train = annoSC2[annoSC2[\"Train\"]==1]\n",
    "annoSC2_test = annoSC2[annoSC2[\"Train\"]==0]\n"
   ]
  },
  {
   "cell_type": "code",
   "execution_count": 6,
   "metadata": {
    "colab": {},
    "colab_type": "code",
    "id": "Hy3-qYjHb9R5",
    "outputId": "c838e855-29dd-4af2-a779-182994abb811"
   },
   "outputs": [
    {
     "data": {
      "text/html": [
       "<div>\n",
       "<style scoped>\n",
       "    .dataframe tbody tr th:only-of-type {\n",
       "        vertical-align: middle;\n",
       "    }\n",
       "\n",
       "    .dataframe tbody tr th {\n",
       "        vertical-align: top;\n",
       "    }\n",
       "\n",
       "    .dataframe thead th {\n",
       "        text-align: right;\n",
       "    }\n",
       "</style>\n",
       "<table border=\"1\" class=\"dataframe\">\n",
       "  <thead>\n",
       "    <tr style=\"text-align: right;\">\n",
       "      <th></th>\n",
       "      <th>SampleID</th>\n",
       "      <th>IndividualID</th>\n",
       "      <th>GA</th>\n",
       "      <th>GADel</th>\n",
       "      <th>Group</th>\n",
       "      <th>Set</th>\n",
       "      <th>Train</th>\n",
       "      <th>Platform</th>\n",
       "      <th>TTD</th>\n",
       "    </tr>\n",
       "  </thead>\n",
       "  <tbody>\n",
       "    <tr>\n",
       "      <td>0</td>\n",
       "      <td>GSM1437802</td>\n",
       "      <td>515122</td>\n",
       "      <td>28.0</td>\n",
       "      <td>40.0</td>\n",
       "      <td>Control</td>\n",
       "      <td>GSE59491</td>\n",
       "      <td>1</td>\n",
       "      <td>HG21ST</td>\n",
       "      <td>12.0</td>\n",
       "    </tr>\n",
       "    <tr>\n",
       "      <td>1</td>\n",
       "      <td>GSM1437801</td>\n",
       "      <td>515122</td>\n",
       "      <td>19.0</td>\n",
       "      <td>40.0</td>\n",
       "      <td>Control</td>\n",
       "      <td>GSE59491</td>\n",
       "      <td>1</td>\n",
       "      <td>HG21ST</td>\n",
       "      <td>21.0</td>\n",
       "    </tr>\n",
       "    <tr>\n",
       "      <td>2</td>\n",
       "      <td>GSM1437804</td>\n",
       "      <td>810384</td>\n",
       "      <td>28.0</td>\n",
       "      <td>40.0</td>\n",
       "      <td>Control</td>\n",
       "      <td>GSE59491</td>\n",
       "      <td>1</td>\n",
       "      <td>HG21ST</td>\n",
       "      <td>12.0</td>\n",
       "    </tr>\n",
       "    <tr>\n",
       "      <td>3</td>\n",
       "      <td>GSM1437803</td>\n",
       "      <td>810384</td>\n",
       "      <td>18.0</td>\n",
       "      <td>40.0</td>\n",
       "      <td>Control</td>\n",
       "      <td>GSE59491</td>\n",
       "      <td>1</td>\n",
       "      <td>HG21ST</td>\n",
       "      <td>22.0</td>\n",
       "    </tr>\n",
       "    <tr>\n",
       "      <td>4</td>\n",
       "      <td>GSM1437806</td>\n",
       "      <td>810392</td>\n",
       "      <td>28.0</td>\n",
       "      <td>41.0</td>\n",
       "      <td>Control</td>\n",
       "      <td>GSE59491</td>\n",
       "      <td>1</td>\n",
       "      <td>HG21ST</td>\n",
       "      <td>13.0</td>\n",
       "    </tr>\n",
       "  </tbody>\n",
       "</table>\n",
       "</div>"
      ],
      "text/plain": [
       "     SampleID  IndividualID    GA  GADel    Group       Set  Train Platform  \\\n",
       "0  GSM1437802        515122  28.0   40.0  Control  GSE59491      1   HG21ST   \n",
       "1  GSM1437801        515122  19.0   40.0  Control  GSE59491      1   HG21ST   \n",
       "2  GSM1437804        810384  28.0   40.0  Control  GSE59491      1   HG21ST   \n",
       "3  GSM1437803        810384  18.0   40.0  Control  GSE59491      1   HG21ST   \n",
       "4  GSM1437806        810392  28.0   41.0  Control  GSE59491      1   HG21ST   \n",
       "\n",
       "    TTD  \n",
       "0  12.0  \n",
       "1  21.0  \n",
       "2  12.0  \n",
       "3  22.0  \n",
       "4  13.0  "
      ]
     },
     "execution_count": 6,
     "metadata": {},
     "output_type": "execute_result"
    }
   ],
   "source": [
    "annoSC2_train.head()"
   ]
  },
  {
   "cell_type": "code",
   "execution_count": 7,
   "metadata": {
    "colab": {},
    "colab_type": "code",
    "id": "ZWztdN1db9SE",
    "outputId": "ef9bb110-0277-4189-904b-04e9b65b9b59"
   },
   "outputs": [
    {
     "data": {
      "text/plain": [
       "(304, 9)"
      ]
     },
     "execution_count": 7,
     "metadata": {},
     "output_type": "execute_result"
    }
   ],
   "source": [
    "annoSC2_test.shape"
   ]
  },
  {
   "cell_type": "code",
   "execution_count": 8,
   "metadata": {
    "colab": {},
    "colab_type": "code",
    "id": "wkpA9PbIb9SP"
   },
   "outputs": [],
   "source": [
    "# Split the file into test and training sets\n",
    "\n",
    "coExpr_train = coExpr.loc[np.array(annoSC2_train[\"SampleID\"]),:]\n",
    "coExpr_test = coExpr.loc[np.array(annoSC2_test[\"SampleID\"]),:]"
   ]
  },
  {
   "cell_type": "code",
   "execution_count": 9,
   "metadata": {
    "colab": {},
    "colab_type": "code",
    "id": "9v2fgc3lb9SZ"
   },
   "outputs": [],
   "source": [
    "import numpy as np\n",
    "\n",
    "# the genes we will use from literature are EBF1, EEFSEC, AGTR2, WNT4, ADCY5, and RAP2C\n",
    "# find their hugo IDs\n",
    "# EBF1: 1879\n",
    "# EEFSES: 60678\n",
    "# AGTR2: 186\n",
    "# WNT4: 54361\n",
    "# ADCY5: 111\n",
    "# RAP2C: 57826\n",
    "\n",
    "top_genes = np.array([\"1879\", \"60678\", \"186\",\"54361\",\"111\",\"57826\"])\n",
    "\n",
    "genes_filtered = dataExpr.loc[top_genes]\n",
    "\n",
    "\n",
    "# filter the genes we selected and split into test and training sets\n",
    "genes_train = genes_filtered.loc[:, np.array(annoSC2_train[\"SampleID\"])].transpose()\n",
    "genes_test = genes_filtered.loc[:,np.array(annoSC2_test[\"SampleID\"])].transpose()"
   ]
  },
  {
   "cell_type": "code",
   "execution_count": 10,
   "metadata": {
    "colab": {},
    "colab_type": "code",
    "id": "jxFAvpjcb9Sk",
    "outputId": "f123816a-928e-4494-df31-b6938dcba061"
   },
   "outputs": [
    {
     "data": {
      "text/html": [
       "<div>\n",
       "<style scoped>\n",
       "    .dataframe tbody tr th:only-of-type {\n",
       "        vertical-align: middle;\n",
       "    }\n",
       "\n",
       "    .dataframe tbody tr th {\n",
       "        vertical-align: top;\n",
       "    }\n",
       "\n",
       "    .dataframe thead th {\n",
       "        text-align: right;\n",
       "    }\n",
       "</style>\n",
       "<table border=\"1\" class=\"dataframe\">\n",
       "  <thead>\n",
       "    <tr style=\"text-align: right;\">\n",
       "      <th></th>\n",
       "      <th>1879</th>\n",
       "      <th>60678</th>\n",
       "      <th>186</th>\n",
       "      <th>54361</th>\n",
       "      <th>111</th>\n",
       "      <th>57826</th>\n",
       "    </tr>\n",
       "  </thead>\n",
       "  <tbody>\n",
       "    <tr>\n",
       "      <td>GSM1437802</td>\n",
       "      <td>6.360063</td>\n",
       "      <td>6.859071</td>\n",
       "      <td>2.952486</td>\n",
       "      <td>5.094788</td>\n",
       "      <td>4.737376</td>\n",
       "      <td>6.813980</td>\n",
       "    </tr>\n",
       "    <tr>\n",
       "      <td>GSM1437801</td>\n",
       "      <td>6.258043</td>\n",
       "      <td>7.160808</td>\n",
       "      <td>2.439917</td>\n",
       "      <td>5.132969</td>\n",
       "      <td>4.917411</td>\n",
       "      <td>6.726894</td>\n",
       "    </tr>\n",
       "    <tr>\n",
       "      <td>GSM1437804</td>\n",
       "      <td>5.734724</td>\n",
       "      <td>7.182273</td>\n",
       "      <td>2.638593</td>\n",
       "      <td>4.666778</td>\n",
       "      <td>4.539364</td>\n",
       "      <td>6.655620</td>\n",
       "    </tr>\n",
       "    <tr>\n",
       "      <td>GSM1437803</td>\n",
       "      <td>5.178100</td>\n",
       "      <td>7.037425</td>\n",
       "      <td>2.419631</td>\n",
       "      <td>4.305356</td>\n",
       "      <td>4.374173</td>\n",
       "      <td>6.776276</td>\n",
       "    </tr>\n",
       "    <tr>\n",
       "      <td>GSM1437806</td>\n",
       "      <td>6.236986</td>\n",
       "      <td>6.907894</td>\n",
       "      <td>2.618598</td>\n",
       "      <td>5.182926</td>\n",
       "      <td>5.081451</td>\n",
       "      <td>7.004107</td>\n",
       "    </tr>\n",
       "  </tbody>\n",
       "</table>\n",
       "</div>"
      ],
      "text/plain": [
       "                1879     60678       186     54361       111     57826\n",
       "GSM1437802  6.360063  6.859071  2.952486  5.094788  4.737376  6.813980\n",
       "GSM1437801  6.258043  7.160808  2.439917  5.132969  4.917411  6.726894\n",
       "GSM1437804  5.734724  7.182273  2.638593  4.666778  4.539364  6.655620\n",
       "GSM1437803  5.178100  7.037425  2.419631  4.305356  4.374173  6.776276\n",
       "GSM1437806  6.236986  6.907894  2.618598  5.182926  5.081451  7.004107"
      ]
     },
     "execution_count": 10,
     "metadata": {},
     "output_type": "execute_result"
    }
   ],
   "source": [
    "genes_train.head()"
   ]
  },
  {
   "cell_type": "code",
   "execution_count": 11,
   "metadata": {
    "colab": {},
    "colab_type": "code",
    "id": "GT8uMR-Ub9Sr"
   },
   "outputs": [],
   "source": [
    "# set the sample id to the index\n",
    "annoSC2_train = annoSC2_train.set_index(\"SampleID\")\n",
    "annoSC2_test = annoSC2_test.set_index(\"SampleID\")"
   ]
  },
  {
   "cell_type": "code",
   "execution_count": 12,
   "metadata": {
    "colab": {},
    "colab_type": "code",
    "id": "kBYUCnCxb9S2"
   },
   "outputs": [],
   "source": [
    "df_train = pd.concat([annoSC2_train.loc[:,[\"IndividualID\",\"GA\"]],genes_train,coExpr_train], axis = 1, sort=True)\n",
    "df_test = pd.concat([annoSC2_test.loc[:,[\"IndividualID\",\"GA\"]],genes_test,coExpr_test],axis = 1,sort=True)"
   ]
  },
  {
   "cell_type": "code",
   "execution_count": 13,
   "metadata": {
    "colab": {},
    "colab_type": "code",
    "id": "Ig6jIlMfb9S8",
    "outputId": "7eb45b0b-3aed-4297-f3ca-a193a3b1219f"
   },
   "outputs": [
    {
     "data": {
      "text/plain": [
       "(435, 11)"
      ]
     },
     "execution_count": 13,
     "metadata": {},
     "output_type": "execute_result"
    }
   ],
   "source": [
    "df_train.shape"
   ]
  },
  {
   "cell_type": "code",
   "execution_count": 14,
   "metadata": {
    "colab": {},
    "colab_type": "code",
    "id": "hK9wrO7mb9TE",
    "outputId": "71c1e7ec-f281-40fa-aec7-518d9b311d09"
   },
   "outputs": [
    {
     "data": {
      "text/plain": [
       "(304, 11)"
      ]
     },
     "execution_count": 14,
     "metadata": {},
     "output_type": "execute_result"
    }
   ],
   "source": [
    "df_test.shape"
   ]
  },
  {
   "cell_type": "code",
   "execution_count": 15,
   "metadata": {
    "colab": {},
    "colab_type": "code",
    "id": "Xcf30Iyyb9TX",
    "outputId": "34e5cfdf-da4e-4102-eef2-3d1353cb7fd7"
   },
   "outputs": [
    {
     "data": {
      "text/html": [
       "<div>\n",
       "<style scoped>\n",
       "    .dataframe tbody tr th:only-of-type {\n",
       "        vertical-align: middle;\n",
       "    }\n",
       "\n",
       "    .dataframe tbody tr th {\n",
       "        vertical-align: top;\n",
       "    }\n",
       "\n",
       "    .dataframe thead th {\n",
       "        text-align: right;\n",
       "    }\n",
       "</style>\n",
       "<table border=\"1\" class=\"dataframe\">\n",
       "  <thead>\n",
       "    <tr style=\"text-align: right;\">\n",
       "      <th></th>\n",
       "      <th>IndividualID</th>\n",
       "      <th>GA</th>\n",
       "      <th>1879</th>\n",
       "      <th>60678</th>\n",
       "      <th>186</th>\n",
       "      <th>54361</th>\n",
       "      <th>111</th>\n",
       "      <th>57826</th>\n",
       "      <th>MEblue</th>\n",
       "      <th>MEturquoise</th>\n",
       "      <th>MEgrey</th>\n",
       "    </tr>\n",
       "    <tr>\n",
       "      <th>SampleID</th>\n",
       "      <th></th>\n",
       "      <th></th>\n",
       "      <th></th>\n",
       "      <th></th>\n",
       "      <th></th>\n",
       "      <th></th>\n",
       "      <th></th>\n",
       "      <th></th>\n",
       "      <th></th>\n",
       "      <th></th>\n",
       "      <th></th>\n",
       "    </tr>\n",
       "  </thead>\n",
       "  <tbody>\n",
       "    <tr>\n",
       "      <td>GSM1437801</td>\n",
       "      <td>515122</td>\n",
       "      <td>19.0</td>\n",
       "      <td>6.258043</td>\n",
       "      <td>7.160808</td>\n",
       "      <td>2.439917</td>\n",
       "      <td>5.132969</td>\n",
       "      <td>4.917411</td>\n",
       "      <td>6.726894</td>\n",
       "      <td>0.001878</td>\n",
       "      <td>-0.022997</td>\n",
       "      <td>0.017817</td>\n",
       "    </tr>\n",
       "    <tr>\n",
       "      <td>GSM1437802</td>\n",
       "      <td>515122</td>\n",
       "      <td>28.0</td>\n",
       "      <td>6.360063</td>\n",
       "      <td>6.859071</td>\n",
       "      <td>2.952486</td>\n",
       "      <td>5.094788</td>\n",
       "      <td>4.737376</td>\n",
       "      <td>6.813980</td>\n",
       "      <td>0.073052</td>\n",
       "      <td>-0.000503</td>\n",
       "      <td>-0.011849</td>\n",
       "    </tr>\n",
       "    <tr>\n",
       "      <td>GSM1437803</td>\n",
       "      <td>810384</td>\n",
       "      <td>18.0</td>\n",
       "      <td>5.178100</td>\n",
       "      <td>7.037425</td>\n",
       "      <td>2.419631</td>\n",
       "      <td>4.305356</td>\n",
       "      <td>4.374173</td>\n",
       "      <td>6.776276</td>\n",
       "      <td>0.052427</td>\n",
       "      <td>0.054722</td>\n",
       "      <td>-0.042404</td>\n",
       "    </tr>\n",
       "    <tr>\n",
       "      <td>GSM1437804</td>\n",
       "      <td>810384</td>\n",
       "      <td>28.0</td>\n",
       "      <td>5.734724</td>\n",
       "      <td>7.182273</td>\n",
       "      <td>2.638593</td>\n",
       "      <td>4.666778</td>\n",
       "      <td>4.539364</td>\n",
       "      <td>6.655620</td>\n",
       "      <td>0.056942</td>\n",
       "      <td>0.066491</td>\n",
       "      <td>-0.044825</td>\n",
       "    </tr>\n",
       "    <tr>\n",
       "      <td>GSM1437805</td>\n",
       "      <td>810392</td>\n",
       "      <td>18.0</td>\n",
       "      <td>6.161384</td>\n",
       "      <td>7.140457</td>\n",
       "      <td>2.462698</td>\n",
       "      <td>4.821886</td>\n",
       "      <td>4.669381</td>\n",
       "      <td>6.921162</td>\n",
       "      <td>-0.022846</td>\n",
       "      <td>-0.006927</td>\n",
       "      <td>0.008669</td>\n",
       "    </tr>\n",
       "  </tbody>\n",
       "</table>\n",
       "</div>"
      ],
      "text/plain": [
       "            IndividualID    GA      1879     60678       186     54361  \\\n",
       "SampleID                                                                 \n",
       "GSM1437801        515122  19.0  6.258043  7.160808  2.439917  5.132969   \n",
       "GSM1437802        515122  28.0  6.360063  6.859071  2.952486  5.094788   \n",
       "GSM1437803        810384  18.0  5.178100  7.037425  2.419631  4.305356   \n",
       "GSM1437804        810384  28.0  5.734724  7.182273  2.638593  4.666778   \n",
       "GSM1437805        810392  18.0  6.161384  7.140457  2.462698  4.821886   \n",
       "\n",
       "                 111     57826    MEblue  MEturquoise    MEgrey  \n",
       "SampleID                                                         \n",
       "GSM1437801  4.917411  6.726894  0.001878    -0.022997  0.017817  \n",
       "GSM1437802  4.737376  6.813980  0.073052    -0.000503 -0.011849  \n",
       "GSM1437803  4.374173  6.776276  0.052427     0.054722 -0.042404  \n",
       "GSM1437804  4.539364  6.655620  0.056942     0.066491 -0.044825  \n",
       "GSM1437805  4.669381  6.921162 -0.022846    -0.006927  0.008669  "
      ]
     },
     "execution_count": 15,
     "metadata": {},
     "output_type": "execute_result"
    }
   ],
   "source": [
    "df_train.head()"
   ]
  },
  {
   "cell_type": "code",
   "execution_count": 16,
   "metadata": {
    "colab": {},
    "colab_type": "code",
    "id": "0uoru71Qb9Te"
   },
   "outputs": [],
   "source": [
    "patient_count_train = df_train.groupby(\"IndividualID\").count()[[\"GA\"]]\n",
    "patient_count_test = df_test.groupby(\"IndividualID\").count()[[\"GA\"]]\n",
    "patient_count_train = patient_count_train.rename(columns={\"GA\": \"no. of samples\"})\n",
    "patient_count_test = patient_count_test.rename(columns={\"GA\": \"no. of samples\"})"
   ]
  },
  {
   "cell_type": "code",
   "execution_count": 17,
   "metadata": {
    "colab": {},
    "colab_type": "code",
    "id": "wOMWY2C_b9Tl",
    "outputId": "16f2f22b-527c-4f8f-ef77-64dc84692907"
   },
   "outputs": [
    {
     "data": {
      "text/html": [
       "<div>\n",
       "<style scoped>\n",
       "    .dataframe tbody tr th:only-of-type {\n",
       "        vertical-align: middle;\n",
       "    }\n",
       "\n",
       "    .dataframe tbody tr th {\n",
       "        vertical-align: top;\n",
       "    }\n",
       "\n",
       "    .dataframe thead th {\n",
       "        text-align: right;\n",
       "    }\n",
       "</style>\n",
       "<table border=\"1\" class=\"dataframe\">\n",
       "  <thead>\n",
       "    <tr style=\"text-align: right;\">\n",
       "      <th></th>\n",
       "      <th>no. of samples</th>\n",
       "    </tr>\n",
       "    <tr>\n",
       "      <th>IndividualID</th>\n",
       "      <th></th>\n",
       "    </tr>\n",
       "  </thead>\n",
       "  <tbody>\n",
       "    <tr>\n",
       "      <td>17516</td>\n",
       "      <td>3</td>\n",
       "    </tr>\n",
       "    <tr>\n",
       "      <td>18359</td>\n",
       "      <td>4</td>\n",
       "    </tr>\n",
       "    <tr>\n",
       "      <td>18561</td>\n",
       "      <td>3</td>\n",
       "    </tr>\n",
       "    <tr>\n",
       "      <td>18566</td>\n",
       "      <td>2</td>\n",
       "    </tr>\n",
       "    <tr>\n",
       "      <td>19116</td>\n",
       "      <td>4</td>\n",
       "    </tr>\n",
       "  </tbody>\n",
       "</table>\n",
       "</div>"
      ],
      "text/plain": [
       "              no. of samples\n",
       "IndividualID                \n",
       "17516                      3\n",
       "18359                      4\n",
       "18561                      3\n",
       "18566                      2\n",
       "19116                      4"
      ]
     },
     "execution_count": 17,
     "metadata": {},
     "output_type": "execute_result"
    }
   ],
   "source": [
    "patient_count_train.head()"
   ]
  },
  {
   "cell_type": "code",
   "execution_count": 18,
   "metadata": {
    "colab": {},
    "colab_type": "code",
    "id": "G9PaHJRSb9Ts"
   },
   "outputs": [],
   "source": [
    "df_train = df_train.groupby(\"IndividualID\").max()\n",
    "df_test = df_test.groupby(\"IndividualID\").max()\n"
   ]
  },
  {
   "cell_type": "code",
   "execution_count": 19,
   "metadata": {
    "colab": {},
    "colab_type": "code",
    "id": "N9Y4ctd0b9Ty",
    "outputId": "b9e8264c-202a-4544-8c26-6562a0c71c2e"
   },
   "outputs": [
    {
     "data": {
      "text/html": [
       "<div>\n",
       "<style scoped>\n",
       "    .dataframe tbody tr th:only-of-type {\n",
       "        vertical-align: middle;\n",
       "    }\n",
       "\n",
       "    .dataframe tbody tr th {\n",
       "        vertical-align: top;\n",
       "    }\n",
       "\n",
       "    .dataframe thead th {\n",
       "        text-align: right;\n",
       "    }\n",
       "</style>\n",
       "<table border=\"1\" class=\"dataframe\">\n",
       "  <thead>\n",
       "    <tr style=\"text-align: right;\">\n",
       "      <th></th>\n",
       "      <th>GA</th>\n",
       "      <th>1879</th>\n",
       "      <th>60678</th>\n",
       "      <th>186</th>\n",
       "      <th>54361</th>\n",
       "      <th>111</th>\n",
       "      <th>57826</th>\n",
       "      <th>MEblue</th>\n",
       "      <th>MEturquoise</th>\n",
       "      <th>MEgrey</th>\n",
       "    </tr>\n",
       "    <tr>\n",
       "      <th>IndividualID</th>\n",
       "      <th></th>\n",
       "      <th></th>\n",
       "      <th></th>\n",
       "      <th></th>\n",
       "      <th></th>\n",
       "      <th></th>\n",
       "      <th></th>\n",
       "      <th></th>\n",
       "      <th></th>\n",
       "      <th></th>\n",
       "    </tr>\n",
       "  </thead>\n",
       "  <tbody>\n",
       "    <tr>\n",
       "      <td>17516</td>\n",
       "      <td>32.4</td>\n",
       "      <td>5.873894</td>\n",
       "      <td>7.049913</td>\n",
       "      <td>2.707240</td>\n",
       "      <td>4.699407</td>\n",
       "      <td>4.650916</td>\n",
       "      <td>7.202096</td>\n",
       "      <td>0.066998</td>\n",
       "      <td>0.013157</td>\n",
       "      <td>0.012642</td>\n",
       "    </tr>\n",
       "    <tr>\n",
       "      <td>18359</td>\n",
       "      <td>34.1</td>\n",
       "      <td>6.516451</td>\n",
       "      <td>7.184346</td>\n",
       "      <td>2.695603</td>\n",
       "      <td>4.832905</td>\n",
       "      <td>4.782068</td>\n",
       "      <td>6.690919</td>\n",
       "      <td>0.007640</td>\n",
       "      <td>0.026830</td>\n",
       "      <td>0.054604</td>\n",
       "    </tr>\n",
       "    <tr>\n",
       "      <td>18561</td>\n",
       "      <td>31.6</td>\n",
       "      <td>6.081236</td>\n",
       "      <td>7.197061</td>\n",
       "      <td>2.667279</td>\n",
       "      <td>5.061835</td>\n",
       "      <td>4.788707</td>\n",
       "      <td>6.676575</td>\n",
       "      <td>-0.000442</td>\n",
       "      <td>-0.015518</td>\n",
       "      <td>0.043046</td>\n",
       "    </tr>\n",
       "    <tr>\n",
       "      <td>18566</td>\n",
       "      <td>30.4</td>\n",
       "      <td>5.617744</td>\n",
       "      <td>7.237615</td>\n",
       "      <td>2.710456</td>\n",
       "      <td>5.298955</td>\n",
       "      <td>5.108024</td>\n",
       "      <td>6.829965</td>\n",
       "      <td>-0.009945</td>\n",
       "      <td>-0.011258</td>\n",
       "      <td>0.040450</td>\n",
       "    </tr>\n",
       "    <tr>\n",
       "      <td>19116</td>\n",
       "      <td>34.1</td>\n",
       "      <td>5.986923</td>\n",
       "      <td>7.119709</td>\n",
       "      <td>2.803796</td>\n",
       "      <td>4.964592</td>\n",
       "      <td>4.758531</td>\n",
       "      <td>6.936114</td>\n",
       "      <td>0.003758</td>\n",
       "      <td>0.001380</td>\n",
       "      <td>0.071549</td>\n",
       "    </tr>\n",
       "  </tbody>\n",
       "</table>\n",
       "</div>"
      ],
      "text/plain": [
       "                GA      1879     60678       186     54361       111  \\\n",
       "IndividualID                                                           \n",
       "17516         32.4  5.873894  7.049913  2.707240  4.699407  4.650916   \n",
       "18359         34.1  6.516451  7.184346  2.695603  4.832905  4.782068   \n",
       "18561         31.6  6.081236  7.197061  2.667279  5.061835  4.788707   \n",
       "18566         30.4  5.617744  7.237615  2.710456  5.298955  5.108024   \n",
       "19116         34.1  5.986923  7.119709  2.803796  4.964592  4.758531   \n",
       "\n",
       "                 57826    MEblue  MEturquoise    MEgrey  \n",
       "IndividualID                                             \n",
       "17516         7.202096  0.066998     0.013157  0.012642  \n",
       "18359         6.690919  0.007640     0.026830  0.054604  \n",
       "18561         6.676575 -0.000442    -0.015518  0.043046  \n",
       "18566         6.829965 -0.009945    -0.011258  0.040450  \n",
       "19116         6.936114  0.003758     0.001380  0.071549  "
      ]
     },
     "execution_count": 19,
     "metadata": {},
     "output_type": "execute_result"
    }
   ],
   "source": [
    "df_train.head()"
   ]
  },
  {
   "cell_type": "code",
   "execution_count": 20,
   "metadata": {
    "colab": {},
    "colab_type": "code",
    "id": "DIERuvuvb9T5"
   },
   "outputs": [],
   "source": [
    "x_train = pd.concat([patient_count_train, df_train], axis = 1, sort=True)\n",
    "x_test = pd.concat([patient_count_test, df_test], axis = 1, sort=True)"
   ]
  },
  {
   "cell_type": "code",
   "execution_count": 21,
   "metadata": {
    "colab": {},
    "colab_type": "code",
    "id": "oqWk6HLob9UB",
    "outputId": "325db291-c322-430c-a62d-84614f51ceef"
   },
   "outputs": [
    {
     "data": {
      "text/html": [
       "<div>\n",
       "<style scoped>\n",
       "    .dataframe tbody tr th:only-of-type {\n",
       "        vertical-align: middle;\n",
       "    }\n",
       "\n",
       "    .dataframe tbody tr th {\n",
       "        vertical-align: top;\n",
       "    }\n",
       "\n",
       "    .dataframe thead th {\n",
       "        text-align: right;\n",
       "    }\n",
       "</style>\n",
       "<table border=\"1\" class=\"dataframe\">\n",
       "  <thead>\n",
       "    <tr style=\"text-align: right;\">\n",
       "      <th></th>\n",
       "      <th>no. of samples</th>\n",
       "      <th>GA</th>\n",
       "      <th>1879</th>\n",
       "      <th>60678</th>\n",
       "      <th>186</th>\n",
       "      <th>54361</th>\n",
       "      <th>111</th>\n",
       "      <th>57826</th>\n",
       "      <th>MEblue</th>\n",
       "      <th>MEturquoise</th>\n",
       "      <th>MEgrey</th>\n",
       "    </tr>\n",
       "    <tr>\n",
       "      <th>IndividualID</th>\n",
       "      <th></th>\n",
       "      <th></th>\n",
       "      <th></th>\n",
       "      <th></th>\n",
       "      <th></th>\n",
       "      <th></th>\n",
       "      <th></th>\n",
       "      <th></th>\n",
       "      <th></th>\n",
       "      <th></th>\n",
       "      <th></th>\n",
       "    </tr>\n",
       "  </thead>\n",
       "  <tbody>\n",
       "    <tr>\n",
       "      <td>17516</td>\n",
       "      <td>3</td>\n",
       "      <td>32.4</td>\n",
       "      <td>5.873894</td>\n",
       "      <td>7.049913</td>\n",
       "      <td>2.707240</td>\n",
       "      <td>4.699407</td>\n",
       "      <td>4.650916</td>\n",
       "      <td>7.202096</td>\n",
       "      <td>0.066998</td>\n",
       "      <td>0.013157</td>\n",
       "      <td>0.012642</td>\n",
       "    </tr>\n",
       "    <tr>\n",
       "      <td>18359</td>\n",
       "      <td>4</td>\n",
       "      <td>34.1</td>\n",
       "      <td>6.516451</td>\n",
       "      <td>7.184346</td>\n",
       "      <td>2.695603</td>\n",
       "      <td>4.832905</td>\n",
       "      <td>4.782068</td>\n",
       "      <td>6.690919</td>\n",
       "      <td>0.007640</td>\n",
       "      <td>0.026830</td>\n",
       "      <td>0.054604</td>\n",
       "    </tr>\n",
       "    <tr>\n",
       "      <td>18561</td>\n",
       "      <td>3</td>\n",
       "      <td>31.6</td>\n",
       "      <td>6.081236</td>\n",
       "      <td>7.197061</td>\n",
       "      <td>2.667279</td>\n",
       "      <td>5.061835</td>\n",
       "      <td>4.788707</td>\n",
       "      <td>6.676575</td>\n",
       "      <td>-0.000442</td>\n",
       "      <td>-0.015518</td>\n",
       "      <td>0.043046</td>\n",
       "    </tr>\n",
       "    <tr>\n",
       "      <td>18566</td>\n",
       "      <td>2</td>\n",
       "      <td>30.4</td>\n",
       "      <td>5.617744</td>\n",
       "      <td>7.237615</td>\n",
       "      <td>2.710456</td>\n",
       "      <td>5.298955</td>\n",
       "      <td>5.108024</td>\n",
       "      <td>6.829965</td>\n",
       "      <td>-0.009945</td>\n",
       "      <td>-0.011258</td>\n",
       "      <td>0.040450</td>\n",
       "    </tr>\n",
       "    <tr>\n",
       "      <td>19116</td>\n",
       "      <td>4</td>\n",
       "      <td>34.1</td>\n",
       "      <td>5.986923</td>\n",
       "      <td>7.119709</td>\n",
       "      <td>2.803796</td>\n",
       "      <td>4.964592</td>\n",
       "      <td>4.758531</td>\n",
       "      <td>6.936114</td>\n",
       "      <td>0.003758</td>\n",
       "      <td>0.001380</td>\n",
       "      <td>0.071549</td>\n",
       "    </tr>\n",
       "  </tbody>\n",
       "</table>\n",
       "</div>"
      ],
      "text/plain": [
       "              no. of samples    GA      1879     60678       186     54361  \\\n",
       "IndividualID                                                                 \n",
       "17516                      3  32.4  5.873894  7.049913  2.707240  4.699407   \n",
       "18359                      4  34.1  6.516451  7.184346  2.695603  4.832905   \n",
       "18561                      3  31.6  6.081236  7.197061  2.667279  5.061835   \n",
       "18566                      2  30.4  5.617744  7.237615  2.710456  5.298955   \n",
       "19116                      4  34.1  5.986923  7.119709  2.803796  4.964592   \n",
       "\n",
       "                   111     57826    MEblue  MEturquoise    MEgrey  \n",
       "IndividualID                                                       \n",
       "17516         4.650916  7.202096  0.066998     0.013157  0.012642  \n",
       "18359         4.782068  6.690919  0.007640     0.026830  0.054604  \n",
       "18561         4.788707  6.676575 -0.000442    -0.015518  0.043046  \n",
       "18566         5.108024  6.829965 -0.009945    -0.011258  0.040450  \n",
       "19116         4.758531  6.936114  0.003758     0.001380  0.071549  "
      ]
     },
     "execution_count": 21,
     "metadata": {},
     "output_type": "execute_result"
    }
   ],
   "source": [
    "x_train.head()"
   ]
  },
  {
   "cell_type": "code",
   "execution_count": 22,
   "metadata": {
    "colab": {},
    "colab_type": "code",
    "id": "3jxMGoFLb9UH",
    "outputId": "b26a20b5-9de0-4574-eaef-bb2b29379fef"
   },
   "outputs": [
    {
     "data": {
      "text/html": [
       "<div>\n",
       "<style scoped>\n",
       "    .dataframe tbody tr th:only-of-type {\n",
       "        vertical-align: middle;\n",
       "    }\n",
       "\n",
       "    .dataframe tbody tr th {\n",
       "        vertical-align: top;\n",
       "    }\n",
       "\n",
       "    .dataframe thead th {\n",
       "        text-align: right;\n",
       "    }\n",
       "</style>\n",
       "<table border=\"1\" class=\"dataframe\">\n",
       "  <thead>\n",
       "    <tr style=\"text-align: right;\">\n",
       "      <th></th>\n",
       "      <th>no. of samples</th>\n",
       "      <th>GA</th>\n",
       "      <th>1879</th>\n",
       "      <th>60678</th>\n",
       "      <th>186</th>\n",
       "      <th>54361</th>\n",
       "      <th>111</th>\n",
       "      <th>57826</th>\n",
       "      <th>MEblue</th>\n",
       "      <th>MEturquoise</th>\n",
       "      <th>MEgrey</th>\n",
       "    </tr>\n",
       "    <tr>\n",
       "      <th>IndividualID</th>\n",
       "      <th></th>\n",
       "      <th></th>\n",
       "      <th></th>\n",
       "      <th></th>\n",
       "      <th></th>\n",
       "      <th></th>\n",
       "      <th></th>\n",
       "      <th></th>\n",
       "      <th></th>\n",
       "      <th></th>\n",
       "      <th></th>\n",
       "    </tr>\n",
       "  </thead>\n",
       "  <tbody>\n",
       "    <tr>\n",
       "      <td>17516</td>\n",
       "      <td>0.333333</td>\n",
       "      <td>0.726562</td>\n",
       "      <td>0.477145</td>\n",
       "      <td>0.260105</td>\n",
       "      <td>0.286344</td>\n",
       "      <td>0.399268</td>\n",
       "      <td>0.316339</td>\n",
       "      <td>0.967796</td>\n",
       "      <td>0.770488</td>\n",
       "      <td>0.453396</td>\n",
       "      <td>0.482851</td>\n",
       "    </tr>\n",
       "    <tr>\n",
       "      <td>18359</td>\n",
       "      <td>0.666667</td>\n",
       "      <td>0.859375</td>\n",
       "      <td>0.917675</td>\n",
       "      <td>0.493148</td>\n",
       "      <td>0.274830</td>\n",
       "      <td>0.507739</td>\n",
       "      <td>0.447502</td>\n",
       "      <td>0.237540</td>\n",
       "      <td>0.443376</td>\n",
       "      <td>0.513781</td>\n",
       "      <td>0.701689</td>\n",
       "    </tr>\n",
       "    <tr>\n",
       "      <td>18561</td>\n",
       "      <td>0.333333</td>\n",
       "      <td>0.664062</td>\n",
       "      <td>0.619296</td>\n",
       "      <td>0.515189</td>\n",
       "      <td>0.246807</td>\n",
       "      <td>0.693751</td>\n",
       "      <td>0.454142</td>\n",
       "      <td>0.217050</td>\n",
       "      <td>0.398836</td>\n",
       "      <td>0.326761</td>\n",
       "      <td>0.641410</td>\n",
       "    </tr>\n",
       "    <tr>\n",
       "      <td>18566</td>\n",
       "      <td>0.000000</td>\n",
       "      <td>0.570312</td>\n",
       "      <td>0.301532</td>\n",
       "      <td>0.585491</td>\n",
       "      <td>0.289526</td>\n",
       "      <td>0.886418</td>\n",
       "      <td>0.773487</td>\n",
       "      <td>0.436179</td>\n",
       "      <td>0.346465</td>\n",
       "      <td>0.345577</td>\n",
       "      <td>0.627874</td>\n",
       "    </tr>\n",
       "    <tr>\n",
       "      <td>19116</td>\n",
       "      <td>0.666667</td>\n",
       "      <td>0.859375</td>\n",
       "      <td>0.554637</td>\n",
       "      <td>0.381098</td>\n",
       "      <td>0.381874</td>\n",
       "      <td>0.614738</td>\n",
       "      <td>0.423963</td>\n",
       "      <td>0.587821</td>\n",
       "      <td>0.421978</td>\n",
       "      <td>0.401389</td>\n",
       "      <td>0.790062</td>\n",
       "    </tr>\n",
       "  </tbody>\n",
       "</table>\n",
       "</div>"
      ],
      "text/plain": [
       "              no. of samples        GA      1879     60678       186  \\\n",
       "IndividualID                                                           \n",
       "17516               0.333333  0.726562  0.477145  0.260105  0.286344   \n",
       "18359               0.666667  0.859375  0.917675  0.493148  0.274830   \n",
       "18561               0.333333  0.664062  0.619296  0.515189  0.246807   \n",
       "18566               0.000000  0.570312  0.301532  0.585491  0.289526   \n",
       "19116               0.666667  0.859375  0.554637  0.381098  0.381874   \n",
       "\n",
       "                 54361       111     57826    MEblue  MEturquoise    MEgrey  \n",
       "IndividualID                                                                 \n",
       "17516         0.399268  0.316339  0.967796  0.770488     0.453396  0.482851  \n",
       "18359         0.507739  0.447502  0.237540  0.443376     0.513781  0.701689  \n",
       "18561         0.693751  0.454142  0.217050  0.398836     0.326761  0.641410  \n",
       "18566         0.886418  0.773487  0.436179  0.346465     0.345577  0.627874  \n",
       "19116         0.614738  0.423963  0.587821  0.421978     0.401389  0.790062  "
      ]
     },
     "execution_count": 22,
     "metadata": {},
     "output_type": "execute_result"
    }
   ],
   "source": [
    "# normalize the values for ML models to perform better\n",
    "from sklearn.model_selection import StratifiedKFold\n",
    "from sklearn.model_selection import KFold\n",
    "from sklearn.preprocessing import MinMaxScaler\n",
    "\n",
    "scaler = MinMaxScaler(feature_range=(0, 1))\n",
    "x_train_norm = scaler.fit_transform(x_train)\n",
    "x_train_norm = pd.DataFrame(x_train_norm, index = x_train.index, columns = x_train.columns)\n",
    "x_train_norm.head()"
   ]
  },
  {
   "cell_type": "code",
   "execution_count": 23,
   "metadata": {
    "colab": {},
    "colab_type": "code",
    "id": "O-qOWTq8b9UO"
   },
   "outputs": [],
   "source": [
    "# create y_train(class)with one last GA samples\n",
    "y_train = annoSC2_train.drop_duplicates([\"IndividualID\"])[[\"IndividualID\",\"Group\"]]\n",
    "y_train = y_train.sort_values(by=[\"IndividualID\"])\n",
    "y_train = y_train.set_index(\"IndividualID\")"
   ]
  },
  {
   "cell_type": "code",
   "execution_count": 24,
   "metadata": {
    "colab": {},
    "colab_type": "code",
    "id": "ebe_WT_Ub9UT",
    "outputId": "df3e6d04-e560-4e50-f050-19dcac11fc2b"
   },
   "outputs": [
    {
     "data": {
      "text/html": [
       "<div>\n",
       "<style scoped>\n",
       "    .dataframe tbody tr th:only-of-type {\n",
       "        vertical-align: middle;\n",
       "    }\n",
       "\n",
       "    .dataframe tbody tr th {\n",
       "        vertical-align: top;\n",
       "    }\n",
       "\n",
       "    .dataframe thead th {\n",
       "        text-align: right;\n",
       "    }\n",
       "</style>\n",
       "<table border=\"1\" class=\"dataframe\">\n",
       "  <thead>\n",
       "    <tr style=\"text-align: right;\">\n",
       "      <th></th>\n",
       "      <th>Group</th>\n",
       "    </tr>\n",
       "    <tr>\n",
       "      <th>IndividualID</th>\n",
       "      <th></th>\n",
       "    </tr>\n",
       "  </thead>\n",
       "  <tbody>\n",
       "    <tr>\n",
       "      <td>17516</td>\n",
       "      <td>PPROM</td>\n",
       "    </tr>\n",
       "    <tr>\n",
       "      <td>18359</td>\n",
       "      <td>Control</td>\n",
       "    </tr>\n",
       "    <tr>\n",
       "      <td>18561</td>\n",
       "      <td>sPTD</td>\n",
       "    </tr>\n",
       "    <tr>\n",
       "      <td>18566</td>\n",
       "      <td>Control</td>\n",
       "    </tr>\n",
       "    <tr>\n",
       "      <td>19116</td>\n",
       "      <td>PPROM</td>\n",
       "    </tr>\n",
       "  </tbody>\n",
       "</table>\n",
       "</div>"
      ],
      "text/plain": [
       "                Group\n",
       "IndividualID         \n",
       "17516           PPROM\n",
       "18359         Control\n",
       "18561            sPTD\n",
       "18566         Control\n",
       "19116           PPROM"
      ]
     },
     "execution_count": 24,
     "metadata": {},
     "output_type": "execute_result"
    }
   ],
   "source": [
    "y_train.head()"
   ]
  },
  {
   "cell_type": "markdown",
   "metadata": {
    "colab_type": "text",
    "id": "0HE3rPjZb9UY"
   },
   "source": [
    "<h1>Feature Importance Analysis</h1>\n",
    "\n",
    "Use XGBoost to analyze the impact of each feature on prediction"
   ]
  },
  {
   "cell_type": "code",
   "execution_count": 25,
   "metadata": {
    "colab": {},
    "colab_type": "code",
    "id": "zPryOVRjb9Ub"
   },
   "outputs": [],
   "source": [
    "y_train_multi = np.where(y_train == 'Control',0,y_train) # 0-> Control , 1 -> PPROM , 2 -> sPTD\n",
    "y_train_multi = np.where(y_train_multi == 'PPROM',1,y_train_multi)\n",
    "y_train_multi = np.where(y_train_multi == 'sPTD',2,y_train_multi)"
   ]
  },
  {
   "cell_type": "code",
   "execution_count": 26,
   "metadata": {
    "colab": {},
    "colab_type": "code",
    "id": "bd7k-EkNb9Ug",
    "outputId": "e6af97e9-acfa-4494-eeab-24048693e43c"
   },
   "outputs": [
    {
     "name": "stderr",
     "output_type": "stream",
     "text": [
      "C:\\Users\\ujwal\\Miniconda3\\envs\\ML\\lib\\site-packages\\sklearn\\preprocessing\\_label.py:235: DataConversionWarning: A column-vector y was passed when a 1d array was expected. Please change the shape of y to (n_samples, ), for example using ravel().\n",
      "  y = column_or_1d(y, warn=True)\n",
      "C:\\Users\\ujwal\\Miniconda3\\envs\\ML\\lib\\site-packages\\sklearn\\preprocessing\\_label.py:268: DataConversionWarning: A column-vector y was passed when a 1d array was expected. Please change the shape of y to (n_samples, ), for example using ravel().\n",
      "  y = column_or_1d(y, warn=True)\n"
     ]
    },
    {
     "data": {
      "text/plain": [
       "XGBClassifier(base_score=0.5, booster='gbtree', colsample_bylevel=1,\n",
       "              colsample_bynode=1, colsample_bytree=1, gamma=0,\n",
       "              learning_rate=0.1, max_delta_step=0, max_depth=3,\n",
       "              min_child_weight=1, missing=None, n_estimators=100, n_jobs=1,\n",
       "              nthread=None, objective='multi:softprob', random_state=0,\n",
       "              reg_alpha=0, reg_lambda=1, scale_pos_weight=1, seed=None,\n",
       "              silent=None, subsample=1, verbosity=1)"
      ]
     },
     "execution_count": 26,
     "metadata": {},
     "output_type": "execute_result"
    }
   ],
   "source": [
    "from xgboost import XGBClassifier\n",
    "\n",
    "model_multi = XGBClassifier()\n",
    "model_multi.fit(x_train, y_train_multi)"
   ]
  },
  {
   "cell_type": "code",
   "execution_count": 27,
   "metadata": {
    "colab": {},
    "colab_type": "code",
    "id": "r7j0IpHSb9Ul",
    "outputId": "b3e3c033-51e5-49f9-ad8c-893653f95c99"
   },
   "outputs": [
    {
     "data": {
      "text/plain": [
       "<Figure size 640x480 with 1 Axes>"
      ]
     },
     "metadata": {},
     "output_type": "display_data"
    }
   ],
   "source": [
    "#Plot feature importance\n",
    "from xgboost import plot_importance\n",
    "from matplotlib import pyplot\n",
    "\n",
    "plot_importance(model_multi,importance_type='gain')\n",
    "pyplot.show()\n",
    "#Image will be a little too crowded to read..but the top 100 genes are stored in a list below"
   ]
  },
  {
   "cell_type": "code",
   "execution_count": 28,
   "metadata": {
    "colab": {},
    "colab_type": "code",
    "id": "HERROGUKb9Uu"
   },
   "outputs": [],
   "source": [
    "feature_imp_multi = model_multi.get_booster().get_score(importance_type='gain')"
   ]
  },
  {
   "cell_type": "markdown",
   "metadata": {
    "colab_type": "text",
    "id": "gQ8HLfWzb9U0"
   },
   "source": [
    "<h1>Multiclass SVC Model</h1>"
   ]
  },
  {
   "cell_type": "code",
   "execution_count": 29,
   "metadata": {
    "colab": {},
    "colab_type": "code",
    "id": "9dk9F86nb9U2",
    "outputId": "5f022cc1-42c6-416b-8b88-03da1ff21922"
   },
   "outputs": [
    {
     "data": {
      "text/plain": [
       "{'C': 10, 'gamma': 0.1}"
      ]
     },
     "execution_count": 29,
     "metadata": {},
     "output_type": "execute_result"
    }
   ],
   "source": [
    "from sklearn.model_selection import GridSearchCV\n",
    "from sklearn import svm\n",
    "\n",
    "def svc_param_selection(X, y, nfolds):\n",
    "    Cs = [0.001, 0.01, 0.1, 1, 10, 100]\n",
    "    gammas = [0.001, 0.01, 0.1, 1,10]\n",
    "    param_grid = {'C': Cs, 'gamma' : gammas}\n",
    "    grid_search = GridSearchCV(svm.SVC(kernel='rbf'), param_grid, cv=nfolds)\n",
    "    grid_search.fit(X, y)\n",
    "    grid_search.best_params_\n",
    "    return grid_search.best_params_\n",
    "\n",
    "svc_param_selection(x_train, y_train.values.ravel(), 10)"
   ]
  },
  {
   "cell_type": "code",
   "execution_count": 36,
   "metadata": {
    "colab": {},
    "colab_type": "code",
    "id": "MP1Cdxi8b9U7",
    "outputId": "a71c6763-7a09-4aae-a1c8-821144bfb3e7"
   },
   "outputs": [
    {
     "name": "stdout",
     "output_type": "stream",
     "text": [
      "[0.85, 0.8, 0.75, 0.65, 0.5, 0.65, 0.6842105263157895, 0.6842105263157895, 0.7368421052631579, 0.7368421052631579]\n",
      "0.7042105263157894\n"
     ]
    }
   ],
   "source": [
    "\n",
    "# Cross validation to see the model performance\n",
    "from sklearn.svm import SVC\n",
    "from sklearn.metrics import roc_auc_score\n",
    "scores = []\n",
    "\n",
    "cv = KFold(n_splits=10, random_state=4266, shuffle=True)\n",
    "\n",
    "for train_index, test_index in cv.split(x_train,y_train_multi):\n",
    "\n",
    "\n",
    "    X_train = x_train.iloc[train_index]\n",
    "    X_test = x_train.iloc[test_index]\n",
    "    y_train2 = y_train.iloc[train_index]\n",
    "    y_test = y_train.iloc[test_index]\n",
    "    \n",
    "    y_train2 = np.ravel(y_train2)\n",
    "    \n",
    "\n",
    "    \n",
    "    svm = SVC(C = 10, kernel='rbf', gamma = 0.1, probability = True)\n",
    "    svm.fit(X_train, y_train2)\n",
    "    scores.append(svm.score(X_test, y_test))\n",
    "\n",
    "\n",
    "print(scores)\n",
    "print(np.mean(scores))"
   ]
  },
  {
   "cell_type": "code",
   "execution_count": 65,
   "metadata": {
    "colab": {},
    "colab_type": "code",
    "id": "MP1Cdxi8b9U7",
    "outputId": "a71c6763-7a09-4aae-a1c8-821144bfb3e7"
   },
   "outputs": [
    {
     "name": "stdout",
     "output_type": "stream",
     "text": [
      "[0.7, 0.7, 0.65, 0.8, 0.75, 0.65, 0.631578947368421, 0.7894736842105263, 0.6842105263157895, 0.6842105263157895]\n",
      "0.7039473684210525\n"
     ]
    }
   ],
   "source": [
    "# Stratified cross validation to see the model performance\n",
    "from sklearn.svm import SVC\n",
    "from sklearn.metrics import roc_auc_score, precision_recall_curve, auc\n",
    "scores = []\n",
    "\n",
    "cv = StratifiedKFold(n_splits=10, random_state=4266, shuffle=True)\n",
    "\n",
    "for train_index, test_index in cv.split(x_train,y_train):\n",
    "\n",
    "\n",
    "    X_train = x_train.iloc[train_index]\n",
    "    X_test = x_train.iloc[test_index]\n",
    "    y_train2 = y_train.iloc[train_index]\n",
    "    y_test = y_train.iloc[test_index]\n",
    "    \n",
    "    y_train2 = np.ravel(y_train2)\n",
    "    \n",
    "    svm = SVC(C = 10, kernel='rbf', gamma = 0.1, probability = True)\n",
    "    svm.fit(X_train, y_train2)\n",
    "    scores.append(svm.score(X_test, y_test))\n",
    "\n",
    "\n",
    "print(scores)\n",
    "print(np.mean(scores))"
   ]
  },
  {
   "cell_type": "markdown",
   "metadata": {},
   "source": [
    "<h1>Naive Bayes</h1>"
   ]
  },
  {
   "cell_type": "code",
   "execution_count": 32,
   "metadata": {
    "colab": {},
    "colab_type": "code",
    "id": "MP1Cdxi8b9U7",
    "outputId": "a71c6763-7a09-4aae-a1c8-821144bfb3e7"
   },
   "outputs": [
    {
     "name": "stdout",
     "output_type": "stream",
     "text": [
      "[0.65, 0.65, 0.65, 0.65, 0.55, 0.55, 0.7368421052631579, 0.631578947368421, 0.6842105263157895, 0.47368421052631576]\n",
      "0.6226315789473684\n"
     ]
    }
   ],
   "source": [
    "# Cross validation to see the model performance\n",
    "from sklearn.naive_bayes import GaussianNB\n",
    "\n",
    "scores = []\n",
    "\n",
    "cv = KFold(n_splits=10, random_state=4266, shuffle=True)\n",
    "\n",
    "for train_index, test_index in cv.split(x_train):\n",
    "\n",
    "\n",
    "    X_train = x_train.iloc[train_index]\n",
    "    X_test = x_train.iloc[test_index]\n",
    "    y_train2 = y_train.iloc[train_index]\n",
    "    y_test = y_train.iloc[test_index]\n",
    "    \n",
    "    y_train2 = np.ravel(y_train2)\n",
    "    \n",
    "    nbc = GaussianNB()\n",
    "    nbc.fit(X_train, y_train2)\n",
    "    scores.append(nbc.score(X_test, y_test))\n",
    "\n",
    "print(scores)\n",
    "print(np.mean(scores))"
   ]
  },
  {
   "cell_type": "code",
   "execution_count": 33,
   "metadata": {
    "colab": {},
    "colab_type": "code",
    "id": "MP1Cdxi8b9U7",
    "outputId": "a71c6763-7a09-4aae-a1c8-821144bfb3e7"
   },
   "outputs": [
    {
     "name": "stdout",
     "output_type": "stream",
     "text": [
      "[0.75, 0.6, 0.5, 0.65, 0.65, 0.5, 0.631578947368421, 0.7894736842105263, 0.5789473684210527, 0.5789473684210527]\n",
      "0.6228947368421054\n"
     ]
    }
   ],
   "source": [
    "# Stratified Cross validation to see the model performance\n",
    "from sklearn.naive_bayes import GaussianNB\n",
    "\n",
    "scores = []\n",
    "\n",
    "cv = StratifiedKFold(n_splits=10, random_state=4266, shuffle=True)\n",
    "\n",
    "for train_index, test_index in cv.split(x_train,y_train):\n",
    "\n",
    "\n",
    "    X_train = x_train.iloc[train_index]\n",
    "    X_test = x_train.iloc[test_index]\n",
    "    y_train2 = y_train.iloc[train_index]\n",
    "    y_test = y_train.iloc[test_index]\n",
    "    \n",
    "    y_train2 = np.ravel(y_train2)\n",
    "    \n",
    "    nbc = GaussianNB()\n",
    "    nbc.fit(X_train, y_train2)\n",
    "    scores.append(nbc.score(X_test, y_test))\n",
    "\n",
    "print(scores)\n",
    "print(np.mean(scores))"
   ]
  },
  {
   "cell_type": "markdown",
   "metadata": {},
   "source": [
    "<h1>XGBoost</h1>"
   ]
  },
  {
   "cell_type": "code",
   "execution_count": 70,
   "metadata": {},
   "outputs": [
    {
     "name": "stdout",
     "output_type": "stream",
     "text": [
      "[0.85, 0.75, 0.7, 0.6, 0.55, 0.6, 0.7368421052631579, 0.5789473684210527, 0.6842105263157895, 0.631578947368421]\n",
      "0.6681578947368421\n"
     ]
    }
   ],
   "source": [
    "# Cross validation to see the model performance\n",
    "# dicti={'Control':0,'sPTD':2,'PPROM':1}\n",
    "from xgboost import XGBClassifier\n",
    "import sklearn\n",
    "scores = []\n",
    "\n",
    "cv = KFold(n_splits=10, random_state=4266, shuffle=True)\n",
    "\n",
    "for train_index, test_index in cv.split(x_train):\n",
    "\n",
    "\n",
    "    X_train = x_train.iloc[train_index]\n",
    "    X_test = x_train.iloc[test_index]\n",
    "    y_train2 = y_train.iloc[train_index]\n",
    "    y_test = y_train.iloc[test_index]\n",
    "    \n",
    "    y_train2 = np.ravel(y_train2)\n",
    "    \n",
    "    xgb = XGBClassifier(seeds = np.random.random)\n",
    "    xgb.fit(X_train, y_train2)\n",
    "    scores.append(xgb.score(X_test, y_test))\n",
    "\n",
    "\n",
    "print(scores)\n",
    "print(np.mean(scores))"
   ]
  },
  {
   "cell_type": "code",
   "execution_count": 71,
   "metadata": {},
   "outputs": [
    {
     "name": "stdout",
     "output_type": "stream",
     "text": [
      "[0.6, 0.7, 0.6, 0.7, 0.65, 0.6, 0.5789473684210527, 0.631578947368421, 0.7368421052631579, 0.6842105263157895]\n",
      "0.648157894736842\n"
     ]
    }
   ],
   "source": [
    "# Cross validation to see the model performance\n",
    "from xgboost import XGBClassifier\n",
    "import sklearn\n",
    "scores = []\n",
    "\n",
    "cv = StratifiedKFold(n_splits=10, random_state=4266, shuffle=True)\n",
    "\n",
    "for train_index, test_index in cv.split(x_train,y_train):\n",
    "\n",
    "\n",
    "    X_train = x_train.iloc[train_index]\n",
    "    X_test = x_train.iloc[test_index]\n",
    "    y_train2 = y_train.iloc[train_index]\n",
    "    y_test = y_train.iloc[test_index]\n",
    "    \n",
    "    y_train2 = np.ravel(y_train2)\n",
    "    \n",
    "    xgb = XGBClassifier(seeds = np.random.random)\n",
    "    xgb.fit(X_train, y_train2)\n",
    "    scores.append(xgb.score(X_test, y_test))\n",
    "    \n",
    "\n",
    "\n",
    "print(scores)\n",
    "print(np.mean(scores))"
   ]
  },
  {
   "cell_type": "markdown",
   "metadata": {},
   "source": [
    "<h1>Now let's combine predictions of all three models</h1>"
   ]
  },
  {
   "cell_type": "code",
   "execution_count": 72,
   "metadata": {
    "colab": {},
    "colab_type": "code",
    "id": "J1ZBKjhXb9VB",
    "outputId": "b2001d1f-12d3-480d-e114-50e1d8a86755"
   },
   "outputs": [
    {
     "name": "stderr",
     "output_type": "stream",
     "text": [
      "C:\\Users\\ujwal\\Miniconda3\\envs\\ML\\lib\\site-packages\\sklearn\\utils\\validation.py:744: DataConversionWarning: A column-vector y was passed when a 1d array was expected. Please change the shape of y to (n_samples, ), for example using ravel().\n",
      "  y = column_or_1d(y, warn=True)\n"
     ]
    }
   ],
   "source": [
    "# train the model on entire dataset this time\n",
    "svm = SVC(C = 10, kernel='rbf', gamma = 0.1, probability = True)\n",
    "svm.fit(x_train, y_train)\n",
    "y_pred1 = svm.predict_proba(x_test)"
   ]
  },
  {
   "cell_type": "code",
   "execution_count": 73,
   "metadata": {
    "colab": {},
    "colab_type": "code",
    "id": "UTzAk_dbb9VH"
   },
   "outputs": [
    {
     "name": "stderr",
     "output_type": "stream",
     "text": [
      "C:\\Users\\ujwal\\Miniconda3\\envs\\ML\\lib\\site-packages\\sklearn\\preprocessing\\_label.py:235: DataConversionWarning: A column-vector y was passed when a 1d array was expected. Please change the shape of y to (n_samples, ), for example using ravel().\n",
      "  y = column_or_1d(y, warn=True)\n",
      "C:\\Users\\ujwal\\Miniconda3\\envs\\ML\\lib\\site-packages\\sklearn\\preprocessing\\_label.py:268: DataConversionWarning: A column-vector y was passed when a 1d array was expected. Please change the shape of y to (n_samples, ), for example using ravel().\n",
      "  y = column_or_1d(y, warn=True)\n"
     ]
    }
   ],
   "source": [
    "xgb = XGBClassifier()\n",
    "xgb.fit(x_train, y_train)\n",
    "y_pred2 = xgb.predict_proba(x_test)"
   ]
  },
  {
   "cell_type": "code",
   "execution_count": 74,
   "metadata": {},
   "outputs": [
    {
     "name": "stderr",
     "output_type": "stream",
     "text": [
      "C:\\Users\\ujwal\\Miniconda3\\envs\\ML\\lib\\site-packages\\sklearn\\naive_bayes.py:207: DataConversionWarning: A column-vector y was passed when a 1d array was expected. Please change the shape of y to (n_samples, ), for example using ravel().\n",
      "  y = column_or_1d(y, warn=True)\n"
     ]
    }
   ],
   "source": [
    "nbc = GaussianNB()\n",
    "nbc.fit(x_train, y_train)\n",
    "y_pred3 = nbc.predict_proba(x_test)"
   ]
  },
  {
   "cell_type": "code",
   "execution_count": 75,
   "metadata": {
    "colab": {},
    "colab_type": "code",
    "id": "imbCWsaHb9VL",
    "outputId": "1ddb7d46-1cee-4fba-b015-c46ac7ffb438"
   },
   "outputs": [],
   "source": [
    "y_pred = (y_pred1+y_pred2+y_pred3)/3"
   ]
  },
  {
   "cell_type": "code",
   "execution_count": 76,
   "metadata": {},
   "outputs": [
    {
     "data": {
      "text/plain": [
       "array([[0.05567593, 0.63829928, 0.30602477],\n",
       "       [0.45597288, 0.27486944, 0.26915767],\n",
       "       [0.60928052, 0.07789242, 0.31282707],\n",
       "       [0.21327884, 0.33123507, 0.45548609],\n",
       "       [0.80920209, 0.03801462, 0.1527833 ],\n",
       "       [0.47657038, 0.08176006, 0.44166955],\n",
       "       [0.30596318, 0.31631697, 0.37771984],\n",
       "       [0.25020523, 0.28940442, 0.46039035],\n",
       "       [0.40411477, 0.43726401, 0.15862121],\n",
       "       [0.47053693, 0.30673561, 0.22272748],\n",
       "       [0.62465085, 0.2612899 , 0.11405924],\n",
       "       [0.4482723 , 0.26447453, 0.28725318],\n",
       "       [0.02167104, 0.29312238, 0.68520658],\n",
       "       [0.77196413, 0.17100434, 0.05703155],\n",
       "       [0.11744383, 0.33874304, 0.54381316],\n",
       "       [0.58078778, 0.07295837, 0.34625385],\n",
       "       [0.48987687, 0.39738016, 0.11274298],\n",
       "       [0.03079549, 0.46030069, 0.50890381],\n",
       "       [0.35041906, 0.33435408, 0.31522685],\n",
       "       [0.35525437, 0.2516872 , 0.39305843],\n",
       "       [0.01268689, 0.31134493, 0.67596817],\n",
       "       [0.64904461, 0.06787676, 0.28307861],\n",
       "       [0.35177113, 0.27612306, 0.37210581],\n",
       "       [0.32995261, 0.16192254, 0.50812485],\n",
       "       [0.32604794, 0.57805854, 0.09589352],\n",
       "       [0.31163299, 0.14285373, 0.54551328],\n",
       "       [0.52403662, 0.11046603, 0.36549735],\n",
       "       [0.16348017, 0.37450029, 0.46201954],\n",
       "       [0.72739986, 0.19243231, 0.08016785],\n",
       "       [0.51135572, 0.09441786, 0.39422643],\n",
       "       [0.43792429, 0.04410655, 0.51796916],\n",
       "       [0.64206538, 0.04573287, 0.31220176],\n",
       "       [0.52914965, 0.28693294, 0.1839174 ],\n",
       "       [0.10459507, 0.77046219, 0.12494275],\n",
       "       [0.29829815, 0.24187856, 0.45982327],\n",
       "       [0.42904635, 0.16920186, 0.40175178],\n",
       "       [0.45296194, 0.40730505, 0.13973302],\n",
       "       [0.59763273, 0.07506811, 0.32729916],\n",
       "       [0.59925724, 0.2714986 , 0.12924416],\n",
       "       [0.24228027, 0.2984338 , 0.45928594],\n",
       "       [0.58790491, 0.04103062, 0.37106448],\n",
       "       [0.31344652, 0.37029936, 0.31625412],\n",
       "       [0.59598007, 0.05752571, 0.34649422],\n",
       "       [0.38160408, 0.13120989, 0.48718605],\n",
       "       [0.25084204, 0.44946876, 0.2996892 ],\n",
       "       [0.86012942, 0.10324391, 0.03662666],\n",
       "       [0.15589631, 0.36094885, 0.48315484],\n",
       "       [0.55188675, 0.34132823, 0.10678502],\n",
       "       [0.79463344, 0.04330999, 0.16205656],\n",
       "       [0.61545277, 0.27498422, 0.10956303],\n",
       "       [0.21005347, 0.27344839, 0.51649813],\n",
       "       [0.31043667, 0.04651103, 0.64305229],\n",
       "       [0.48264836, 0.31873933, 0.19861231],\n",
       "       [0.37424969, 0.21085506, 0.41489526],\n",
       "       [0.59410826, 0.05964869, 0.34624306],\n",
       "       [0.35982176, 0.15241962, 0.48775859],\n",
       "       [0.00684665, 0.30452321, 0.68863014],\n",
       "       [0.6088474 , 0.06391452, 0.32723809],\n",
       "       [0.25376909, 0.6488546 , 0.09737631],\n",
       "       [0.51345582, 0.11259304, 0.37395115],\n",
       "       [0.3793605 , 0.24001205, 0.38062746],\n",
       "       [0.63886675, 0.06513442, 0.29599883],\n",
       "       [0.63913523, 0.05691374, 0.30395103],\n",
       "       [0.04951882, 0.73060814, 0.21987304],\n",
       "       [0.0220509 , 0.511095  , 0.4668541 ],\n",
       "       [0.70159442, 0.04856722, 0.24983837],\n",
       "       [0.5865663 , 0.05531413, 0.35811956],\n",
       "       [0.7919851 , 0.1489597 , 0.05905519],\n",
       "       [0.55605219, 0.1076325 , 0.33631529],\n",
       "       [0.03160758, 0.52293936, 0.44545306],\n",
       "       [0.42441751, 0.36984441, 0.20573807],\n",
       "       [0.53081273, 0.09951392, 0.36967335],\n",
       "       [0.05928745, 0.58556753, 0.35514502],\n",
       "       [0.15933726, 0.46943925, 0.37122349],\n",
       "       [0.61584735, 0.05114131, 0.33301133],\n",
       "       [0.34158554, 0.13706691, 0.52134756],\n",
       "       [0.58116716, 0.08389282, 0.33494003],\n",
       "       [0.58092031, 0.30293133, 0.11614835],\n",
       "       [0.66779686, 0.04537095, 0.28683221],\n",
       "       [0.45955188, 0.33364862, 0.2067995 ],\n",
       "       [0.41722474, 0.15104345, 0.43173182],\n",
       "       [0.15504218, 0.61496568, 0.22999213],\n",
       "       [0.05480946, 0.63003193, 0.31515864],\n",
       "       [0.89262189, 0.06835398, 0.03902415],\n",
       "       [0.75090897, 0.06576655, 0.18332448],\n",
       "       [0.12043401, 0.63199102, 0.24757498],\n",
       "       [0.64444531, 0.24836784, 0.10718683]])"
      ]
     },
     "execution_count": 76,
     "metadata": {},
     "output_type": "execute_result"
    }
   ],
   "source": [
    "y_pred"
   ]
  },
  {
   "cell_type": "code",
   "execution_count": 77,
   "metadata": {
    "colab": {},
    "colab_type": "code",
    "id": "_xzFRwHob9VT"
   },
   "outputs": [
    {
     "data": {
      "text/html": [
       "<div>\n",
       "<style scoped>\n",
       "    .dataframe tbody tr th:only-of-type {\n",
       "        vertical-align: middle;\n",
       "    }\n",
       "\n",
       "    .dataframe tbody tr th {\n",
       "        vertical-align: top;\n",
       "    }\n",
       "\n",
       "    .dataframe thead th {\n",
       "        text-align: right;\n",
       "    }\n",
       "</style>\n",
       "<table border=\"1\" class=\"dataframe\">\n",
       "  <thead>\n",
       "    <tr style=\"text-align: right;\">\n",
       "      <th></th>\n",
       "      <th>IndividualID</th>\n",
       "      <th>sPTD</th>\n",
       "      <th>PPROM</th>\n",
       "    </tr>\n",
       "  </thead>\n",
       "  <tbody>\n",
       "    <tr>\n",
       "      <td>0</td>\n",
       "      <td>18223</td>\n",
       "      <td>0.306025</td>\n",
       "      <td>0.638299</td>\n",
       "    </tr>\n",
       "    <tr>\n",
       "      <td>1</td>\n",
       "      <td>18275</td>\n",
       "      <td>0.269158</td>\n",
       "      <td>0.274869</td>\n",
       "    </tr>\n",
       "    <tr>\n",
       "      <td>2</td>\n",
       "      <td>18427</td>\n",
       "      <td>0.312827</td>\n",
       "      <td>0.077892</td>\n",
       "    </tr>\n",
       "    <tr>\n",
       "      <td>3</td>\n",
       "      <td>18453</td>\n",
       "      <td>0.455486</td>\n",
       "      <td>0.331235</td>\n",
       "    </tr>\n",
       "    <tr>\n",
       "      <td>4</td>\n",
       "      <td>18473</td>\n",
       "      <td>0.152783</td>\n",
       "      <td>0.038015</td>\n",
       "    </tr>\n",
       "  </tbody>\n",
       "</table>\n",
       "</div>"
      ],
      "text/plain": [
       "   IndividualID      sPTD     PPROM\n",
       "0         18223  0.306025  0.638299\n",
       "1         18275  0.269158  0.274869\n",
       "2         18427  0.312827  0.077892\n",
       "3         18453  0.455486  0.331235\n",
       "4         18473  0.152783  0.038015"
      ]
     },
     "execution_count": 77,
     "metadata": {},
     "output_type": "execute_result"
    }
   ],
   "source": [
    "pred_df = pd.DataFrame({\n",
    "    \"IndividualID\": x_test.index.values,\n",
    "    \"sPTD\": y_pred[:,2],\n",
    "    \"PPROM\": y_pred[:,1]\n",
    "})\n",
    "\n",
    "pred_df.head()"
   ]
  },
  {
   "cell_type": "code",
   "execution_count": 81,
   "metadata": {
    "colab": {},
    "colab_type": "code",
    "id": "k6eDweobb9VY"
   },
   "outputs": [],
   "source": [
    "pred_df.to_csv(PRED/\"preterm_birth_1.csv\",index=False)"
   ]
  }
 ],
 "metadata": {
  "colab": {
   "name": "preterm_birth_final1.ipynb",
   "provenance": []
  },
  "kernelspec": {
   "display_name": "Python 3",
   "language": "python",
   "name": "python3"
  },
  "language_info": {
   "codemirror_mode": {
    "name": "ipython",
    "version": 3
   },
   "file_extension": ".py",
   "mimetype": "text/x-python",
   "name": "python",
   "nbconvert_exporter": "python",
   "pygments_lexer": "ipython3",
   "version": "3.6.9"
  }
 },
 "nbformat": 4,
 "nbformat_minor": 1
}
