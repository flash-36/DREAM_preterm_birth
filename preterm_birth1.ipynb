{
  "nbformat": 4,
  "nbformat_minor": 0,
  "metadata": {
    "kernelspec": {
      "display_name": "Python 3",
      "language": "python",
      "name": "python3"
    },
    "language_info": {
      "codemirror_mode": {
        "name": "ipython",
        "version": 3
      },
      "file_extension": ".py",
      "mimetype": "text/x-python",
      "name": "python",
      "nbconvert_exporter": "python",
      "pygments_lexer": "ipython3",
      "version": "3.7.3"
    },
    "colab": {
      "name": "preterm_birth_final1.ipynb",
      "provenance": []
    }
  },
  "cells": [
    {
      "cell_type": "markdown",
      "metadata": {
        "id": "SkjRWmXIb9Qq",
        "colab_type": "text"
      },
      "source": [
        "# Prediction of preterm birth\n",
        "\n",
        "This notebook along with a r script contains the process of predicting preterm birth using whole blood gene expression data collected from pregnant women to develop prediction models for the gestational age at blood draw.\n"
      ]
    },
    {
      "cell_type": "markdown",
      "metadata": {
        "colab_type": "text",
        "id": "f1cSiZ9gZ1xp"
      },
      "source": [
        "## Exploratory data analysis (EDA)\n",
        "\n",
        "The data information is summarized below\n",
        "\n",
        "\n",
        "It should contain the following files:\n",
        "\n",
        "* `co-genes.csv`: genes expression information of 3 clustered modules from 94 most differentially expressed genes of each sample\n",
        "* `anoSC2_v20_nokey.csv`: annotation information of each patient and sample including group(i.e control or preterm), train(i.e train or test data),gestational information etc.\n",
        "* `geneExpression.csv`: Normalized values of RNASeq data of each sample \n"
      ]
    },
    {
      "cell_type": "code",
      "metadata": {
        "id": "ft0kcheZb9Q2",
        "colab_type": "code",
        "colab": {}
      },
      "source": [
        "from pathlib import Path\n",
        "\n",
        "# Change this to where you download the files\n",
        "DATA = Path(\"/Users/tianya/Desktop/CU Courses/ECBM 4060 Intro to Genomic Info/Final Project\")"
      ],
      "execution_count": 0,
      "outputs": []
    },
    {
      "cell_type": "code",
      "metadata": {
        "id": "nYKz9fwpb9RE",
        "colab_type": "code",
        "colab": {},
        "outputId": "276355ba-2ef2-4311-8d10-e7032bff6e13"
      },
      "source": [
        "import pandas as pd\n",
        "\n",
        "# co-genes.csv contains three eigengenes modules. \n",
        "# To create co-genes.csv, we first input the entire eset gene expression matrix and annoSC2 files into a r script\n",
        "# We use limma package to find out the top 94 genes that are over-expressed in either control or preterm samples\n",
        "# Then we use WGCNA package to cluster the 94 genes and combine co-expressed genes into corresponding modules\n",
        "# The final results are three eigengenes, two signed and one unsigned stored in co-genes.csv\n",
        "coExpr = pd.read_csv(DATA/\"co-genes.csv\")\n",
        "coExpr = coExpr.set_index('Unnamed: 0')\n",
        "coExpr.index.names = [None] \n",
        "coExpr.head()"
      ],
      "execution_count": 0,
      "outputs": [
        {
          "output_type": "execute_result",
          "data": {
            "text/html": [
              "<div>\n",
              "<style scoped>\n",
              "    .dataframe tbody tr th:only-of-type {\n",
              "        vertical-align: middle;\n",
              "    }\n",
              "\n",
              "    .dataframe tbody tr th {\n",
              "        vertical-align: top;\n",
              "    }\n",
              "\n",
              "    .dataframe thead th {\n",
              "        text-align: right;\n",
              "    }\n",
              "</style>\n",
              "<table border=\"1\" class=\"dataframe\">\n",
              "  <thead>\n",
              "    <tr style=\"text-align: right;\">\n",
              "      <th></th>\n",
              "      <th>MEblue</th>\n",
              "      <th>MEturquoise</th>\n",
              "      <th>MEgrey</th>\n",
              "    </tr>\n",
              "  </thead>\n",
              "  <tbody>\n",
              "    <tr>\n",
              "      <th>GSM1437802</th>\n",
              "      <td>0.073052</td>\n",
              "      <td>-0.000503</td>\n",
              "      <td>-0.011849</td>\n",
              "    </tr>\n",
              "    <tr>\n",
              "      <th>GSM1437801</th>\n",
              "      <td>0.001878</td>\n",
              "      <td>-0.022997</td>\n",
              "      <td>0.017817</td>\n",
              "    </tr>\n",
              "    <tr>\n",
              "      <th>GSM1437804</th>\n",
              "      <td>0.056942</td>\n",
              "      <td>0.066491</td>\n",
              "      <td>-0.044825</td>\n",
              "    </tr>\n",
              "    <tr>\n",
              "      <th>GSM1437803</th>\n",
              "      <td>0.052427</td>\n",
              "      <td>0.054722</td>\n",
              "      <td>-0.042404</td>\n",
              "    </tr>\n",
              "    <tr>\n",
              "      <th>GSM1437806</th>\n",
              "      <td>-0.018788</td>\n",
              "      <td>-0.030588</td>\n",
              "      <td>0.000516</td>\n",
              "    </tr>\n",
              "  </tbody>\n",
              "</table>\n",
              "</div>"
            ],
            "text/plain": [
              "              MEblue  MEturquoise    MEgrey\n",
              "GSM1437802  0.073052    -0.000503 -0.011849\n",
              "GSM1437801  0.001878    -0.022997  0.017817\n",
              "GSM1437804  0.056942     0.066491 -0.044825\n",
              "GSM1437803  0.052427     0.054722 -0.042404\n",
              "GSM1437806 -0.018788    -0.030588  0.000516"
            ]
          },
          "metadata": {
            "tags": []
          },
          "execution_count": 64
        }
      ]
    },
    {
      "cell_type": "code",
      "metadata": {
        "id": "siytFCEPb9RT",
        "colab_type": "code",
        "colab": {}
      },
      "source": [
        ""
      ],
      "execution_count": 0,
      "outputs": []
    },
    {
      "cell_type": "code",
      "metadata": {
        "id": "gCW-TP1ob9Rd",
        "colab_type": "code",
        "colab": {},
        "outputId": "3ffd767c-1e4b-4111-cf5f-fe01c80b9c85"
      },
      "source": [
        "# input the original eset data matrix and remove the _at suffix from row names/gene IDs\n",
        "dataExpr = pd.read_csv(\"geneExpression.csv\") \n",
        "dataExpr = dataExpr.set_index('Unnamed: 0')\n",
        "dataExpr.index.names = [None] \n",
        "dataExpr = dataExpr.rename(index = lambda x: x.strip('_at'))\n",
        "dataExpr.head()"
      ],
      "execution_count": 0,
      "outputs": [
        {
          "output_type": "execute_result",
          "data": {
            "text/html": [
              "<div>\n",
              "<style scoped>\n",
              "    .dataframe tbody tr th:only-of-type {\n",
              "        vertical-align: middle;\n",
              "    }\n",
              "\n",
              "    .dataframe tbody tr th {\n",
              "        vertical-align: top;\n",
              "    }\n",
              "\n",
              "    .dataframe thead th {\n",
              "        text-align: right;\n",
              "    }\n",
              "</style>\n",
              "<table border=\"1\" class=\"dataframe\">\n",
              "  <thead>\n",
              "    <tr style=\"text-align: right;\">\n",
              "      <th></th>\n",
              "      <th>GSM1437802</th>\n",
              "      <th>GSM1437801</th>\n",
              "      <th>GSM1437804</th>\n",
              "      <th>GSM1437803</th>\n",
              "      <th>GSM1437806</th>\n",
              "      <th>GSM1437805</th>\n",
              "      <th>GSM1437808</th>\n",
              "      <th>GSM1437807</th>\n",
              "      <th>GSM1437810</th>\n",
              "      <th>GSM1437809</th>\n",
              "      <th>...</th>\n",
              "      <th>Tarca_008_P1A08</th>\n",
              "      <th>Tarca_091_P1H07</th>\n",
              "      <th>Tarca_492_P6D02</th>\n",
              "      <th>Tarca_491_P6C02</th>\n",
              "      <th>Tarca_506_P6B04</th>\n",
              "      <th>Tarca_920_P10H07</th>\n",
              "      <th>Tarca_919_P10G07</th>\n",
              "      <th>Tarca_918_P10F07</th>\n",
              "      <th>Tarca_917_P10E07</th>\n",
              "      <th>Tarca_916_P10D07</th>\n",
              "    </tr>\n",
              "  </thead>\n",
              "  <tbody>\n",
              "    <tr>\n",
              "      <th>1</th>\n",
              "      <td>5.673714</td>\n",
              "      <td>5.657469</td>\n",
              "      <td>5.263798</td>\n",
              "      <td>5.621857</td>\n",
              "      <td>5.746427</td>\n",
              "      <td>5.382171</td>\n",
              "      <td>5.977089</td>\n",
              "      <td>5.771783</td>\n",
              "      <td>5.511752</td>\n",
              "      <td>5.302418</td>\n",
              "      <td>...</td>\n",
              "      <td>5.788344</td>\n",
              "      <td>5.543969</td>\n",
              "      <td>5.128486</td>\n",
              "      <td>5.343032</td>\n",
              "      <td>5.577095</td>\n",
              "      <td>5.767927</td>\n",
              "      <td>5.982427</td>\n",
              "      <td>5.869221</td>\n",
              "      <td>5.871484</td>\n",
              "      <td>5.752629</td>\n",
              "    </tr>\n",
              "    <tr>\n",
              "      <th>10</th>\n",
              "      <td>3.722012</td>\n",
              "      <td>3.027650</td>\n",
              "      <td>3.095365</td>\n",
              "      <td>3.429769</td>\n",
              "      <td>2.938438</td>\n",
              "      <td>3.055553</td>\n",
              "      <td>2.838617</td>\n",
              "      <td>2.977819</td>\n",
              "      <td>2.944549</td>\n",
              "      <td>2.977487</td>\n",
              "      <td>...</td>\n",
              "      <td>2.919084</td>\n",
              "      <td>2.970130</td>\n",
              "      <td>2.714327</td>\n",
              "      <td>3.012835</td>\n",
              "      <td>2.918379</td>\n",
              "      <td>2.973631</td>\n",
              "      <td>3.044613</td>\n",
              "      <td>3.321144</td>\n",
              "      <td>3.039177</td>\n",
              "      <td>2.976313</td>\n",
              "    </tr>\n",
              "    <tr>\n",
              "      <th>100</th>\n",
              "      <td>6.844537</td>\n",
              "      <td>6.979622</td>\n",
              "      <td>7.311993</td>\n",
              "      <td>7.406321</td>\n",
              "      <td>7.155013</td>\n",
              "      <td>6.930386</td>\n",
              "      <td>7.300295</td>\n",
              "      <td>7.156051</td>\n",
              "      <td>7.512933</td>\n",
              "      <td>7.163658</td>\n",
              "      <td>...</td>\n",
              "      <td>7.328793</td>\n",
              "      <td>7.189998</td>\n",
              "      <td>7.414430</td>\n",
              "      <td>7.559631</td>\n",
              "      <td>7.511595</td>\n",
              "      <td>7.325456</td>\n",
              "      <td>7.149270</td>\n",
              "      <td>7.130817</td>\n",
              "      <td>7.139528</td>\n",
              "      <td>7.203337</td>\n",
              "    </tr>\n",
              "    <tr>\n",
              "      <th>1000</th>\n",
              "      <td>4.209495</td>\n",
              "      <td>3.973889</td>\n",
              "      <td>4.126598</td>\n",
              "      <td>3.721685</td>\n",
              "      <td>3.899342</td>\n",
              "      <td>4.073817</td>\n",
              "      <td>3.811101</td>\n",
              "      <td>3.766648</td>\n",
              "      <td>4.029314</td>\n",
              "      <td>4.153578</td>\n",
              "      <td>...</td>\n",
              "      <td>3.718119</td>\n",
              "      <td>3.714274</td>\n",
              "      <td>3.902793</td>\n",
              "      <td>3.870281</td>\n",
              "      <td>3.860453</td>\n",
              "      <td>4.062084</td>\n",
              "      <td>4.034426</td>\n",
              "      <td>4.021482</td>\n",
              "      <td>3.999080</td>\n",
              "      <td>3.980084</td>\n",
              "    </tr>\n",
              "    <tr>\n",
              "      <th>10000</th>\n",
              "      <td>6.915998</td>\n",
              "      <td>6.820816</td>\n",
              "      <td>6.785624</td>\n",
              "      <td>6.665341</td>\n",
              "      <td>6.637787</td>\n",
              "      <td>6.552980</td>\n",
              "      <td>6.695902</td>\n",
              "      <td>6.714650</td>\n",
              "      <td>6.564450</td>\n",
              "      <td>6.640959</td>\n",
              "      <td>...</td>\n",
              "      <td>6.596466</td>\n",
              "      <td>6.693787</td>\n",
              "      <td>7.315201</td>\n",
              "      <td>7.284721</td>\n",
              "      <td>6.636553</td>\n",
              "      <td>6.501599</td>\n",
              "      <td>6.297040</td>\n",
              "      <td>6.600034</td>\n",
              "      <td>6.229878</td>\n",
              "      <td>6.284294</td>\n",
              "    </tr>\n",
              "  </tbody>\n",
              "</table>\n",
              "<p>5 rows × 739 columns</p>\n",
              "</div>"
            ],
            "text/plain": [
              "       GSM1437802  GSM1437801  GSM1437804  GSM1437803  GSM1437806  GSM1437805  \\\n",
              "1        5.673714    5.657469    5.263798    5.621857    5.746427    5.382171   \n",
              "10       3.722012    3.027650    3.095365    3.429769    2.938438    3.055553   \n",
              "100      6.844537    6.979622    7.311993    7.406321    7.155013    6.930386   \n",
              "1000     4.209495    3.973889    4.126598    3.721685    3.899342    4.073817   \n",
              "10000    6.915998    6.820816    6.785624    6.665341    6.637787    6.552980   \n",
              "\n",
              "       GSM1437808  GSM1437807  GSM1437810  GSM1437809  ...  Tarca_008_P1A08  \\\n",
              "1        5.977089    5.771783    5.511752    5.302418  ...         5.788344   \n",
              "10       2.838617    2.977819    2.944549    2.977487  ...         2.919084   \n",
              "100      7.300295    7.156051    7.512933    7.163658  ...         7.328793   \n",
              "1000     3.811101    3.766648    4.029314    4.153578  ...         3.718119   \n",
              "10000    6.695902    6.714650    6.564450    6.640959  ...         6.596466   \n",
              "\n",
              "       Tarca_091_P1H07  Tarca_492_P6D02  Tarca_491_P6C02  Tarca_506_P6B04  \\\n",
              "1             5.543969         5.128486         5.343032         5.577095   \n",
              "10            2.970130         2.714327         3.012835         2.918379   \n",
              "100           7.189998         7.414430         7.559631         7.511595   \n",
              "1000          3.714274         3.902793         3.870281         3.860453   \n",
              "10000         6.693787         7.315201         7.284721         6.636553   \n",
              "\n",
              "       Tarca_920_P10H07  Tarca_919_P10G07  Tarca_918_P10F07  Tarca_917_P10E07  \\\n",
              "1              5.767927          5.982427          5.869221          5.871484   \n",
              "10             2.973631          3.044613          3.321144          3.039177   \n",
              "100            7.325456          7.149270          7.130817          7.139528   \n",
              "1000           4.062084          4.034426          4.021482          3.999080   \n",
              "10000          6.501599          6.297040          6.600034          6.229878   \n",
              "\n",
              "       Tarca_916_P10D07  \n",
              "1              5.752629  \n",
              "10             2.976313  \n",
              "100            7.203337  \n",
              "1000           3.980084  \n",
              "10000          6.284294  \n",
              "\n",
              "[5 rows x 739 columns]"
            ]
          },
          "metadata": {
            "tags": []
          },
          "execution_count": 65
        }
      ]
    },
    {
      "cell_type": "code",
      "metadata": {
        "id": "-W-rfRf7b9Rn",
        "colab_type": "code",
        "colab": {}
      },
      "source": [
        "# Input the annotation file that contains group information and gestation age\n",
        "annoSC2 = pd.read_csv(\"anoSC2_v20_nokey.csv\")"
      ],
      "execution_count": 0,
      "outputs": []
    },
    {
      "cell_type": "code",
      "metadata": {
        "id": "BCjh1jh_b9Rx",
        "colab_type": "code",
        "colab": {}
      },
      "source": [
        "# Split the file into test and training sets\n",
        "annoSC2_train = annoSC2[annoSC2[\"Train\"]==1]\n",
        "annoSC2_test = annoSC2[annoSC2[\"Train\"]==0]\n"
      ],
      "execution_count": 0,
      "outputs": []
    },
    {
      "cell_type": "code",
      "metadata": {
        "id": "Hy3-qYjHb9R5",
        "colab_type": "code",
        "colab": {},
        "outputId": "c838e855-29dd-4af2-a779-182994abb811"
      },
      "source": [
        "annoSC2_train.head()"
      ],
      "execution_count": 0,
      "outputs": [
        {
          "output_type": "execute_result",
          "data": {
            "text/html": [
              "<div>\n",
              "<style scoped>\n",
              "    .dataframe tbody tr th:only-of-type {\n",
              "        vertical-align: middle;\n",
              "    }\n",
              "\n",
              "    .dataframe tbody tr th {\n",
              "        vertical-align: top;\n",
              "    }\n",
              "\n",
              "    .dataframe thead th {\n",
              "        text-align: right;\n",
              "    }\n",
              "</style>\n",
              "<table border=\"1\" class=\"dataframe\">\n",
              "  <thead>\n",
              "    <tr style=\"text-align: right;\">\n",
              "      <th></th>\n",
              "      <th>SampleID</th>\n",
              "      <th>IndividualID</th>\n",
              "      <th>GA</th>\n",
              "      <th>GADel</th>\n",
              "      <th>Group</th>\n",
              "      <th>Set</th>\n",
              "      <th>Train</th>\n",
              "      <th>Platform</th>\n",
              "      <th>TTD</th>\n",
              "    </tr>\n",
              "  </thead>\n",
              "  <tbody>\n",
              "    <tr>\n",
              "      <th>0</th>\n",
              "      <td>GSM1437802</td>\n",
              "      <td>515122</td>\n",
              "      <td>28.0</td>\n",
              "      <td>40.0</td>\n",
              "      <td>Control</td>\n",
              "      <td>GSE59491</td>\n",
              "      <td>1</td>\n",
              "      <td>HG21ST</td>\n",
              "      <td>12.0</td>\n",
              "    </tr>\n",
              "    <tr>\n",
              "      <th>1</th>\n",
              "      <td>GSM1437801</td>\n",
              "      <td>515122</td>\n",
              "      <td>19.0</td>\n",
              "      <td>40.0</td>\n",
              "      <td>Control</td>\n",
              "      <td>GSE59491</td>\n",
              "      <td>1</td>\n",
              "      <td>HG21ST</td>\n",
              "      <td>21.0</td>\n",
              "    </tr>\n",
              "    <tr>\n",
              "      <th>2</th>\n",
              "      <td>GSM1437804</td>\n",
              "      <td>810384</td>\n",
              "      <td>28.0</td>\n",
              "      <td>40.0</td>\n",
              "      <td>Control</td>\n",
              "      <td>GSE59491</td>\n",
              "      <td>1</td>\n",
              "      <td>HG21ST</td>\n",
              "      <td>12.0</td>\n",
              "    </tr>\n",
              "    <tr>\n",
              "      <th>3</th>\n",
              "      <td>GSM1437803</td>\n",
              "      <td>810384</td>\n",
              "      <td>18.0</td>\n",
              "      <td>40.0</td>\n",
              "      <td>Control</td>\n",
              "      <td>GSE59491</td>\n",
              "      <td>1</td>\n",
              "      <td>HG21ST</td>\n",
              "      <td>22.0</td>\n",
              "    </tr>\n",
              "    <tr>\n",
              "      <th>4</th>\n",
              "      <td>GSM1437806</td>\n",
              "      <td>810392</td>\n",
              "      <td>28.0</td>\n",
              "      <td>41.0</td>\n",
              "      <td>Control</td>\n",
              "      <td>GSE59491</td>\n",
              "      <td>1</td>\n",
              "      <td>HG21ST</td>\n",
              "      <td>13.0</td>\n",
              "    </tr>\n",
              "  </tbody>\n",
              "</table>\n",
              "</div>"
            ],
            "text/plain": [
              "     SampleID  IndividualID    GA  GADel    Group       Set  Train Platform  \\\n",
              "0  GSM1437802        515122  28.0   40.0  Control  GSE59491      1   HG21ST   \n",
              "1  GSM1437801        515122  19.0   40.0  Control  GSE59491      1   HG21ST   \n",
              "2  GSM1437804        810384  28.0   40.0  Control  GSE59491      1   HG21ST   \n",
              "3  GSM1437803        810384  18.0   40.0  Control  GSE59491      1   HG21ST   \n",
              "4  GSM1437806        810392  28.0   41.0  Control  GSE59491      1   HG21ST   \n",
              "\n",
              "    TTD  \n",
              "0  12.0  \n",
              "1  21.0  \n",
              "2  12.0  \n",
              "3  22.0  \n",
              "4  13.0  "
            ]
          },
          "metadata": {
            "tags": []
          },
          "execution_count": 68
        }
      ]
    },
    {
      "cell_type": "code",
      "metadata": {
        "id": "ZWztdN1db9SE",
        "colab_type": "code",
        "colab": {},
        "outputId": "ef9bb110-0277-4189-904b-04e9b65b9b59"
      },
      "source": [
        "annoSC2_test.shape"
      ],
      "execution_count": 0,
      "outputs": [
        {
          "output_type": "execute_result",
          "data": {
            "text/plain": [
              "(304, 9)"
            ]
          },
          "metadata": {
            "tags": []
          },
          "execution_count": 69
        }
      ]
    },
    {
      "cell_type": "code",
      "metadata": {
        "id": "wkpA9PbIb9SP",
        "colab_type": "code",
        "colab": {}
      },
      "source": [
        "# Split the file into test and training sets\n",
        "\n",
        "coExpr_train = coExpr.loc[np.array(annoSC2_train[\"SampleID\"]),:]\n",
        "coExpr_test = coExpr.loc[np.array(annoSC2_test[\"SampleID\"]),:]"
      ],
      "execution_count": 0,
      "outputs": []
    },
    {
      "cell_type": "code",
      "metadata": {
        "id": "9v2fgc3lb9SZ",
        "colab_type": "code",
        "colab": {}
      },
      "source": [
        "import numpy as np\n",
        "\n",
        "# the genes we will use from literature are EBF1, EEFSEC, AGTR2, WNT4, ADCY5, and RAP2C\n",
        "# find their hugo IDs\n",
        "# EBF1: 1879\n",
        "# EEFSES: 60678\n",
        "# AGTR2: 186\n",
        "# WNT4: 54361\n",
        "# ADCY5: 111\n",
        "# RAP2C: 57826\n",
        "\n",
        "top_genes = np.array([\"1879\", \"60678\", \"186\",\"54361\",\"111\",\"57826\"])\n",
        "\n",
        "genes_filtered = dataExpr.loc[top_genes]\n",
        "\n",
        "\n",
        "# filter the genes we selected and split into test and training sets\n",
        "genes_train = genes_filtered.loc[:, np.array(annoSC2_train[\"SampleID\"])].transpose()\n",
        "genes_test = genes_filtered.loc[:,np.array(annoSC2_test[\"SampleID\"])].transpose()"
      ],
      "execution_count": 0,
      "outputs": []
    },
    {
      "cell_type": "code",
      "metadata": {
        "id": "jxFAvpjcb9Sk",
        "colab_type": "code",
        "colab": {},
        "outputId": "f123816a-928e-4494-df31-b6938dcba061"
      },
      "source": [
        "genes_train.head()"
      ],
      "execution_count": 0,
      "outputs": [
        {
          "output_type": "execute_result",
          "data": {
            "text/html": [
              "<div>\n",
              "<style scoped>\n",
              "    .dataframe tbody tr th:only-of-type {\n",
              "        vertical-align: middle;\n",
              "    }\n",
              "\n",
              "    .dataframe tbody tr th {\n",
              "        vertical-align: top;\n",
              "    }\n",
              "\n",
              "    .dataframe thead th {\n",
              "        text-align: right;\n",
              "    }\n",
              "</style>\n",
              "<table border=\"1\" class=\"dataframe\">\n",
              "  <thead>\n",
              "    <tr style=\"text-align: right;\">\n",
              "      <th></th>\n",
              "      <th>1879</th>\n",
              "      <th>60678</th>\n",
              "      <th>186</th>\n",
              "      <th>54361</th>\n",
              "      <th>111</th>\n",
              "      <th>57826</th>\n",
              "    </tr>\n",
              "  </thead>\n",
              "  <tbody>\n",
              "    <tr>\n",
              "      <th>GSM1437802</th>\n",
              "      <td>6.360063</td>\n",
              "      <td>6.859071</td>\n",
              "      <td>2.952486</td>\n",
              "      <td>5.094788</td>\n",
              "      <td>4.737376</td>\n",
              "      <td>6.813980</td>\n",
              "    </tr>\n",
              "    <tr>\n",
              "      <th>GSM1437801</th>\n",
              "      <td>6.258043</td>\n",
              "      <td>7.160808</td>\n",
              "      <td>2.439917</td>\n",
              "      <td>5.132969</td>\n",
              "      <td>4.917411</td>\n",
              "      <td>6.726894</td>\n",
              "    </tr>\n",
              "    <tr>\n",
              "      <th>GSM1437804</th>\n",
              "      <td>5.734724</td>\n",
              "      <td>7.182273</td>\n",
              "      <td>2.638593</td>\n",
              "      <td>4.666778</td>\n",
              "      <td>4.539364</td>\n",
              "      <td>6.655620</td>\n",
              "    </tr>\n",
              "    <tr>\n",
              "      <th>GSM1437803</th>\n",
              "      <td>5.178100</td>\n",
              "      <td>7.037425</td>\n",
              "      <td>2.419631</td>\n",
              "      <td>4.305356</td>\n",
              "      <td>4.374173</td>\n",
              "      <td>6.776276</td>\n",
              "    </tr>\n",
              "    <tr>\n",
              "      <th>GSM1437806</th>\n",
              "      <td>6.236986</td>\n",
              "      <td>6.907894</td>\n",
              "      <td>2.618598</td>\n",
              "      <td>5.182926</td>\n",
              "      <td>5.081451</td>\n",
              "      <td>7.004107</td>\n",
              "    </tr>\n",
              "  </tbody>\n",
              "</table>\n",
              "</div>"
            ],
            "text/plain": [
              "                1879     60678       186     54361       111     57826\n",
              "GSM1437802  6.360063  6.859071  2.952486  5.094788  4.737376  6.813980\n",
              "GSM1437801  6.258043  7.160808  2.439917  5.132969  4.917411  6.726894\n",
              "GSM1437804  5.734724  7.182273  2.638593  4.666778  4.539364  6.655620\n",
              "GSM1437803  5.178100  7.037425  2.419631  4.305356  4.374173  6.776276\n",
              "GSM1437806  6.236986  6.907894  2.618598  5.182926  5.081451  7.004107"
            ]
          },
          "metadata": {
            "tags": []
          },
          "execution_count": 72
        }
      ]
    },
    {
      "cell_type": "code",
      "metadata": {
        "id": "GT8uMR-Ub9Sr",
        "colab_type": "code",
        "colab": {}
      },
      "source": [
        "# set the sample id to the index\n",
        "annoSC2_train = annoSC2_train.set_index(\"SampleID\")\n",
        "annoSC2_test = annoSC2_test.set_index(\"SampleID\")"
      ],
      "execution_count": 0,
      "outputs": []
    },
    {
      "cell_type": "code",
      "metadata": {
        "id": "kBYUCnCxb9S2",
        "colab_type": "code",
        "colab": {}
      },
      "source": [
        "df_train = pd.concat([annoSC2_train.loc[:,[\"IndividualID\",\"GA\"]],genes_train,coExpr_train], axis = 1, sort=True)\n",
        "df_test = pd.concat([annoSC2_test.loc[:,[\"IndividualID\",\"GA\"]],genes_test,coExpr_test],axis = 1,sort=True)"
      ],
      "execution_count": 0,
      "outputs": []
    },
    {
      "cell_type": "code",
      "metadata": {
        "id": "Ig6jIlMfb9S8",
        "colab_type": "code",
        "colab": {},
        "outputId": "7eb45b0b-3aed-4297-f3ca-a193a3b1219f"
      },
      "source": [
        "df_train.shape"
      ],
      "execution_count": 0,
      "outputs": [
        {
          "output_type": "execute_result",
          "data": {
            "text/plain": [
              "(435, 11)"
            ]
          },
          "metadata": {
            "tags": []
          },
          "execution_count": 75
        }
      ]
    },
    {
      "cell_type": "code",
      "metadata": {
        "id": "hK9wrO7mb9TE",
        "colab_type": "code",
        "colab": {},
        "outputId": "71c1e7ec-f281-40fa-aec7-518d9b311d09"
      },
      "source": [
        "df_test.shape"
      ],
      "execution_count": 0,
      "outputs": [
        {
          "output_type": "execute_result",
          "data": {
            "text/plain": [
              "(304, 11)"
            ]
          },
          "metadata": {
            "tags": []
          },
          "execution_count": 76
        }
      ]
    },
    {
      "cell_type": "code",
      "metadata": {
        "id": "Xcf30Iyyb9TX",
        "colab_type": "code",
        "colab": {},
        "outputId": "34e5cfdf-da4e-4102-eef2-3d1353cb7fd7"
      },
      "source": [
        "df_train.head()"
      ],
      "execution_count": 0,
      "outputs": [
        {
          "output_type": "execute_result",
          "data": {
            "text/html": [
              "<div>\n",
              "<style scoped>\n",
              "    .dataframe tbody tr th:only-of-type {\n",
              "        vertical-align: middle;\n",
              "    }\n",
              "\n",
              "    .dataframe tbody tr th {\n",
              "        vertical-align: top;\n",
              "    }\n",
              "\n",
              "    .dataframe thead th {\n",
              "        text-align: right;\n",
              "    }\n",
              "</style>\n",
              "<table border=\"1\" class=\"dataframe\">\n",
              "  <thead>\n",
              "    <tr style=\"text-align: right;\">\n",
              "      <th></th>\n",
              "      <th>IndividualID</th>\n",
              "      <th>GA</th>\n",
              "      <th>1879</th>\n",
              "      <th>60678</th>\n",
              "      <th>186</th>\n",
              "      <th>54361</th>\n",
              "      <th>111</th>\n",
              "      <th>57826</th>\n",
              "      <th>MEblue</th>\n",
              "      <th>MEturquoise</th>\n",
              "      <th>MEgrey</th>\n",
              "    </tr>\n",
              "    <tr>\n",
              "      <th>SampleID</th>\n",
              "      <th></th>\n",
              "      <th></th>\n",
              "      <th></th>\n",
              "      <th></th>\n",
              "      <th></th>\n",
              "      <th></th>\n",
              "      <th></th>\n",
              "      <th></th>\n",
              "      <th></th>\n",
              "      <th></th>\n",
              "      <th></th>\n",
              "    </tr>\n",
              "  </thead>\n",
              "  <tbody>\n",
              "    <tr>\n",
              "      <th>GSM1437801</th>\n",
              "      <td>515122</td>\n",
              "      <td>19.0</td>\n",
              "      <td>6.258043</td>\n",
              "      <td>7.160808</td>\n",
              "      <td>2.439917</td>\n",
              "      <td>5.132969</td>\n",
              "      <td>4.917411</td>\n",
              "      <td>6.726894</td>\n",
              "      <td>0.001878</td>\n",
              "      <td>-0.022997</td>\n",
              "      <td>0.017817</td>\n",
              "    </tr>\n",
              "    <tr>\n",
              "      <th>GSM1437802</th>\n",
              "      <td>515122</td>\n",
              "      <td>28.0</td>\n",
              "      <td>6.360063</td>\n",
              "      <td>6.859071</td>\n",
              "      <td>2.952486</td>\n",
              "      <td>5.094788</td>\n",
              "      <td>4.737376</td>\n",
              "      <td>6.813980</td>\n",
              "      <td>0.073052</td>\n",
              "      <td>-0.000503</td>\n",
              "      <td>-0.011849</td>\n",
              "    </tr>\n",
              "    <tr>\n",
              "      <th>GSM1437803</th>\n",
              "      <td>810384</td>\n",
              "      <td>18.0</td>\n",
              "      <td>5.178100</td>\n",
              "      <td>7.037425</td>\n",
              "      <td>2.419631</td>\n",
              "      <td>4.305356</td>\n",
              "      <td>4.374173</td>\n",
              "      <td>6.776276</td>\n",
              "      <td>0.052427</td>\n",
              "      <td>0.054722</td>\n",
              "      <td>-0.042404</td>\n",
              "    </tr>\n",
              "    <tr>\n",
              "      <th>GSM1437804</th>\n",
              "      <td>810384</td>\n",
              "      <td>28.0</td>\n",
              "      <td>5.734724</td>\n",
              "      <td>7.182273</td>\n",
              "      <td>2.638593</td>\n",
              "      <td>4.666778</td>\n",
              "      <td>4.539364</td>\n",
              "      <td>6.655620</td>\n",
              "      <td>0.056942</td>\n",
              "      <td>0.066491</td>\n",
              "      <td>-0.044825</td>\n",
              "    </tr>\n",
              "    <tr>\n",
              "      <th>GSM1437805</th>\n",
              "      <td>810392</td>\n",
              "      <td>18.0</td>\n",
              "      <td>6.161384</td>\n",
              "      <td>7.140457</td>\n",
              "      <td>2.462698</td>\n",
              "      <td>4.821886</td>\n",
              "      <td>4.669381</td>\n",
              "      <td>6.921162</td>\n",
              "      <td>-0.022846</td>\n",
              "      <td>-0.006927</td>\n",
              "      <td>0.008669</td>\n",
              "    </tr>\n",
              "  </tbody>\n",
              "</table>\n",
              "</div>"
            ],
            "text/plain": [
              "            IndividualID    GA      1879     60678       186     54361  \\\n",
              "SampleID                                                                 \n",
              "GSM1437801        515122  19.0  6.258043  7.160808  2.439917  5.132969   \n",
              "GSM1437802        515122  28.0  6.360063  6.859071  2.952486  5.094788   \n",
              "GSM1437803        810384  18.0  5.178100  7.037425  2.419631  4.305356   \n",
              "GSM1437804        810384  28.0  5.734724  7.182273  2.638593  4.666778   \n",
              "GSM1437805        810392  18.0  6.161384  7.140457  2.462698  4.821886   \n",
              "\n",
              "                 111     57826    MEblue  MEturquoise    MEgrey  \n",
              "SampleID                                                         \n",
              "GSM1437801  4.917411  6.726894  0.001878    -0.022997  0.017817  \n",
              "GSM1437802  4.737376  6.813980  0.073052    -0.000503 -0.011849  \n",
              "GSM1437803  4.374173  6.776276  0.052427     0.054722 -0.042404  \n",
              "GSM1437804  4.539364  6.655620  0.056942     0.066491 -0.044825  \n",
              "GSM1437805  4.669381  6.921162 -0.022846    -0.006927  0.008669  "
            ]
          },
          "metadata": {
            "tags": []
          },
          "execution_count": 77
        }
      ]
    },
    {
      "cell_type": "code",
      "metadata": {
        "id": "0uoru71Qb9Te",
        "colab_type": "code",
        "colab": {}
      },
      "source": [
        "patient_count_train = df_train.groupby(\"IndividualID\").count()[[\"GA\"]]\n",
        "patient_count_test = df_test.groupby(\"IndividualID\").count()[[\"GA\"]]\n",
        "patient_count_train = patient_count_train.rename(columns={\"GA\": \"no. of samples\"})\n",
        "patient_count_test = patient_count_test.rename(columns={\"GA\": \"no. of samples\"})"
      ],
      "execution_count": 0,
      "outputs": []
    },
    {
      "cell_type": "code",
      "metadata": {
        "id": "wOMWY2C_b9Tl",
        "colab_type": "code",
        "colab": {},
        "outputId": "16f2f22b-527c-4f8f-ef77-64dc84692907"
      },
      "source": [
        "patient_count_train.head()"
      ],
      "execution_count": 0,
      "outputs": [
        {
          "output_type": "execute_result",
          "data": {
            "text/html": [
              "<div>\n",
              "<style scoped>\n",
              "    .dataframe tbody tr th:only-of-type {\n",
              "        vertical-align: middle;\n",
              "    }\n",
              "\n",
              "    .dataframe tbody tr th {\n",
              "        vertical-align: top;\n",
              "    }\n",
              "\n",
              "    .dataframe thead th {\n",
              "        text-align: right;\n",
              "    }\n",
              "</style>\n",
              "<table border=\"1\" class=\"dataframe\">\n",
              "  <thead>\n",
              "    <tr style=\"text-align: right;\">\n",
              "      <th></th>\n",
              "      <th>no. of samples</th>\n",
              "    </tr>\n",
              "    <tr>\n",
              "      <th>IndividualID</th>\n",
              "      <th></th>\n",
              "    </tr>\n",
              "  </thead>\n",
              "  <tbody>\n",
              "    <tr>\n",
              "      <th>17516</th>\n",
              "      <td>3</td>\n",
              "    </tr>\n",
              "    <tr>\n",
              "      <th>18359</th>\n",
              "      <td>4</td>\n",
              "    </tr>\n",
              "    <tr>\n",
              "      <th>18561</th>\n",
              "      <td>3</td>\n",
              "    </tr>\n",
              "    <tr>\n",
              "      <th>18566</th>\n",
              "      <td>2</td>\n",
              "    </tr>\n",
              "    <tr>\n",
              "      <th>19116</th>\n",
              "      <td>4</td>\n",
              "    </tr>\n",
              "  </tbody>\n",
              "</table>\n",
              "</div>"
            ],
            "text/plain": [
              "              no. of samples\n",
              "IndividualID                \n",
              "17516                      3\n",
              "18359                      4\n",
              "18561                      3\n",
              "18566                      2\n",
              "19116                      4"
            ]
          },
          "metadata": {
            "tags": []
          },
          "execution_count": 79
        }
      ]
    },
    {
      "cell_type": "code",
      "metadata": {
        "id": "G9PaHJRSb9Ts",
        "colab_type": "code",
        "colab": {}
      },
      "source": [
        "df_train = df_train.groupby(\"IndividualID\").max()\n",
        "df_test = df_test.groupby(\"IndividualID\").max()\n"
      ],
      "execution_count": 0,
      "outputs": []
    },
    {
      "cell_type": "code",
      "metadata": {
        "id": "N9Y4ctd0b9Ty",
        "colab_type": "code",
        "colab": {},
        "outputId": "b9e8264c-202a-4544-8c26-6562a0c71c2e"
      },
      "source": [
        "df_train.head()"
      ],
      "execution_count": 0,
      "outputs": [
        {
          "output_type": "execute_result",
          "data": {
            "text/html": [
              "<div>\n",
              "<style scoped>\n",
              "    .dataframe tbody tr th:only-of-type {\n",
              "        vertical-align: middle;\n",
              "    }\n",
              "\n",
              "    .dataframe tbody tr th {\n",
              "        vertical-align: top;\n",
              "    }\n",
              "\n",
              "    .dataframe thead th {\n",
              "        text-align: right;\n",
              "    }\n",
              "</style>\n",
              "<table border=\"1\" class=\"dataframe\">\n",
              "  <thead>\n",
              "    <tr style=\"text-align: right;\">\n",
              "      <th></th>\n",
              "      <th>GA</th>\n",
              "      <th>1879</th>\n",
              "      <th>60678</th>\n",
              "      <th>186</th>\n",
              "      <th>54361</th>\n",
              "      <th>111</th>\n",
              "      <th>57826</th>\n",
              "      <th>MEblue</th>\n",
              "      <th>MEturquoise</th>\n",
              "      <th>MEgrey</th>\n",
              "    </tr>\n",
              "    <tr>\n",
              "      <th>IndividualID</th>\n",
              "      <th></th>\n",
              "      <th></th>\n",
              "      <th></th>\n",
              "      <th></th>\n",
              "      <th></th>\n",
              "      <th></th>\n",
              "      <th></th>\n",
              "      <th></th>\n",
              "      <th></th>\n",
              "      <th></th>\n",
              "    </tr>\n",
              "  </thead>\n",
              "  <tbody>\n",
              "    <tr>\n",
              "      <th>17516</th>\n",
              "      <td>32.4</td>\n",
              "      <td>5.873894</td>\n",
              "      <td>7.049913</td>\n",
              "      <td>2.707240</td>\n",
              "      <td>4.699407</td>\n",
              "      <td>4.650916</td>\n",
              "      <td>7.202096</td>\n",
              "      <td>0.066998</td>\n",
              "      <td>0.013157</td>\n",
              "      <td>0.012642</td>\n",
              "    </tr>\n",
              "    <tr>\n",
              "      <th>18359</th>\n",
              "      <td>34.1</td>\n",
              "      <td>6.516451</td>\n",
              "      <td>7.184346</td>\n",
              "      <td>2.695603</td>\n",
              "      <td>4.832905</td>\n",
              "      <td>4.782068</td>\n",
              "      <td>6.690919</td>\n",
              "      <td>0.007640</td>\n",
              "      <td>0.026830</td>\n",
              "      <td>0.054604</td>\n",
              "    </tr>\n",
              "    <tr>\n",
              "      <th>18561</th>\n",
              "      <td>31.6</td>\n",
              "      <td>6.081236</td>\n",
              "      <td>7.197061</td>\n",
              "      <td>2.667279</td>\n",
              "      <td>5.061835</td>\n",
              "      <td>4.788707</td>\n",
              "      <td>6.676575</td>\n",
              "      <td>-0.000442</td>\n",
              "      <td>-0.015518</td>\n",
              "      <td>0.043046</td>\n",
              "    </tr>\n",
              "    <tr>\n",
              "      <th>18566</th>\n",
              "      <td>30.4</td>\n",
              "      <td>5.617744</td>\n",
              "      <td>7.237615</td>\n",
              "      <td>2.710456</td>\n",
              "      <td>5.298955</td>\n",
              "      <td>5.108024</td>\n",
              "      <td>6.829965</td>\n",
              "      <td>-0.009945</td>\n",
              "      <td>-0.011258</td>\n",
              "      <td>0.040450</td>\n",
              "    </tr>\n",
              "    <tr>\n",
              "      <th>19116</th>\n",
              "      <td>34.1</td>\n",
              "      <td>5.986923</td>\n",
              "      <td>7.119709</td>\n",
              "      <td>2.803796</td>\n",
              "      <td>4.964592</td>\n",
              "      <td>4.758531</td>\n",
              "      <td>6.936114</td>\n",
              "      <td>0.003758</td>\n",
              "      <td>0.001380</td>\n",
              "      <td>0.071549</td>\n",
              "    </tr>\n",
              "  </tbody>\n",
              "</table>\n",
              "</div>"
            ],
            "text/plain": [
              "                GA      1879     60678       186     54361       111  \\\n",
              "IndividualID                                                           \n",
              "17516         32.4  5.873894  7.049913  2.707240  4.699407  4.650916   \n",
              "18359         34.1  6.516451  7.184346  2.695603  4.832905  4.782068   \n",
              "18561         31.6  6.081236  7.197061  2.667279  5.061835  4.788707   \n",
              "18566         30.4  5.617744  7.237615  2.710456  5.298955  5.108024   \n",
              "19116         34.1  5.986923  7.119709  2.803796  4.964592  4.758531   \n",
              "\n",
              "                 57826    MEblue  MEturquoise    MEgrey  \n",
              "IndividualID                                             \n",
              "17516         7.202096  0.066998     0.013157  0.012642  \n",
              "18359         6.690919  0.007640     0.026830  0.054604  \n",
              "18561         6.676575 -0.000442    -0.015518  0.043046  \n",
              "18566         6.829965 -0.009945    -0.011258  0.040450  \n",
              "19116         6.936114  0.003758     0.001380  0.071549  "
            ]
          },
          "metadata": {
            "tags": []
          },
          "execution_count": 81
        }
      ]
    },
    {
      "cell_type": "code",
      "metadata": {
        "id": "DIERuvuvb9T5",
        "colab_type": "code",
        "colab": {}
      },
      "source": [
        "x_train = pd.concat([patient_count_train, df_train], axis = 1, sort=True)\n",
        "x_test = pd.concat([patient_count_test, df_test], axis = 1, sort=True)"
      ],
      "execution_count": 0,
      "outputs": []
    },
    {
      "cell_type": "code",
      "metadata": {
        "id": "oqWk6HLob9UB",
        "colab_type": "code",
        "colab": {},
        "outputId": "325db291-c322-430c-a62d-84614f51ceef"
      },
      "source": [
        "x_train.head()"
      ],
      "execution_count": 0,
      "outputs": [
        {
          "output_type": "execute_result",
          "data": {
            "text/html": [
              "<div>\n",
              "<style scoped>\n",
              "    .dataframe tbody tr th:only-of-type {\n",
              "        vertical-align: middle;\n",
              "    }\n",
              "\n",
              "    .dataframe tbody tr th {\n",
              "        vertical-align: top;\n",
              "    }\n",
              "\n",
              "    .dataframe thead th {\n",
              "        text-align: right;\n",
              "    }\n",
              "</style>\n",
              "<table border=\"1\" class=\"dataframe\">\n",
              "  <thead>\n",
              "    <tr style=\"text-align: right;\">\n",
              "      <th></th>\n",
              "      <th>no. of samples</th>\n",
              "      <th>GA</th>\n",
              "      <th>1879</th>\n",
              "      <th>60678</th>\n",
              "      <th>186</th>\n",
              "      <th>54361</th>\n",
              "      <th>111</th>\n",
              "      <th>57826</th>\n",
              "      <th>MEblue</th>\n",
              "      <th>MEturquoise</th>\n",
              "      <th>MEgrey</th>\n",
              "    </tr>\n",
              "    <tr>\n",
              "      <th>IndividualID</th>\n",
              "      <th></th>\n",
              "      <th></th>\n",
              "      <th></th>\n",
              "      <th></th>\n",
              "      <th></th>\n",
              "      <th></th>\n",
              "      <th></th>\n",
              "      <th></th>\n",
              "      <th></th>\n",
              "      <th></th>\n",
              "      <th></th>\n",
              "    </tr>\n",
              "  </thead>\n",
              "  <tbody>\n",
              "    <tr>\n",
              "      <th>17516</th>\n",
              "      <td>3</td>\n",
              "      <td>32.4</td>\n",
              "      <td>5.873894</td>\n",
              "      <td>7.049913</td>\n",
              "      <td>2.707240</td>\n",
              "      <td>4.699407</td>\n",
              "      <td>4.650916</td>\n",
              "      <td>7.202096</td>\n",
              "      <td>0.066998</td>\n",
              "      <td>0.013157</td>\n",
              "      <td>0.012642</td>\n",
              "    </tr>\n",
              "    <tr>\n",
              "      <th>18359</th>\n",
              "      <td>4</td>\n",
              "      <td>34.1</td>\n",
              "      <td>6.516451</td>\n",
              "      <td>7.184346</td>\n",
              "      <td>2.695603</td>\n",
              "      <td>4.832905</td>\n",
              "      <td>4.782068</td>\n",
              "      <td>6.690919</td>\n",
              "      <td>0.007640</td>\n",
              "      <td>0.026830</td>\n",
              "      <td>0.054604</td>\n",
              "    </tr>\n",
              "    <tr>\n",
              "      <th>18561</th>\n",
              "      <td>3</td>\n",
              "      <td>31.6</td>\n",
              "      <td>6.081236</td>\n",
              "      <td>7.197061</td>\n",
              "      <td>2.667279</td>\n",
              "      <td>5.061835</td>\n",
              "      <td>4.788707</td>\n",
              "      <td>6.676575</td>\n",
              "      <td>-0.000442</td>\n",
              "      <td>-0.015518</td>\n",
              "      <td>0.043046</td>\n",
              "    </tr>\n",
              "    <tr>\n",
              "      <th>18566</th>\n",
              "      <td>2</td>\n",
              "      <td>30.4</td>\n",
              "      <td>5.617744</td>\n",
              "      <td>7.237615</td>\n",
              "      <td>2.710456</td>\n",
              "      <td>5.298955</td>\n",
              "      <td>5.108024</td>\n",
              "      <td>6.829965</td>\n",
              "      <td>-0.009945</td>\n",
              "      <td>-0.011258</td>\n",
              "      <td>0.040450</td>\n",
              "    </tr>\n",
              "    <tr>\n",
              "      <th>19116</th>\n",
              "      <td>4</td>\n",
              "      <td>34.1</td>\n",
              "      <td>5.986923</td>\n",
              "      <td>7.119709</td>\n",
              "      <td>2.803796</td>\n",
              "      <td>4.964592</td>\n",
              "      <td>4.758531</td>\n",
              "      <td>6.936114</td>\n",
              "      <td>0.003758</td>\n",
              "      <td>0.001380</td>\n",
              "      <td>0.071549</td>\n",
              "    </tr>\n",
              "  </tbody>\n",
              "</table>\n",
              "</div>"
            ],
            "text/plain": [
              "              no. of samples    GA      1879     60678       186     54361  \\\n",
              "IndividualID                                                                 \n",
              "17516                      3  32.4  5.873894  7.049913  2.707240  4.699407   \n",
              "18359                      4  34.1  6.516451  7.184346  2.695603  4.832905   \n",
              "18561                      3  31.6  6.081236  7.197061  2.667279  5.061835   \n",
              "18566                      2  30.4  5.617744  7.237615  2.710456  5.298955   \n",
              "19116                      4  34.1  5.986923  7.119709  2.803796  4.964592   \n",
              "\n",
              "                   111     57826    MEblue  MEturquoise    MEgrey  \n",
              "IndividualID                                                       \n",
              "17516         4.650916  7.202096  0.066998     0.013157  0.012642  \n",
              "18359         4.782068  6.690919  0.007640     0.026830  0.054604  \n",
              "18561         4.788707  6.676575 -0.000442    -0.015518  0.043046  \n",
              "18566         5.108024  6.829965 -0.009945    -0.011258  0.040450  \n",
              "19116         4.758531  6.936114  0.003758     0.001380  0.071549  "
            ]
          },
          "metadata": {
            "tags": []
          },
          "execution_count": 83
        }
      ]
    },
    {
      "cell_type": "code",
      "metadata": {
        "id": "3jxMGoFLb9UH",
        "colab_type": "code",
        "colab": {},
        "outputId": "b26a20b5-9de0-4574-eaef-bb2b29379fef"
      },
      "source": [
        "# normalize the values for ML models to perform better\n",
        "from sklearn.model_selection import KFold\n",
        "from sklearn.preprocessing import MinMaxScaler\n",
        "\n",
        "scaler = MinMaxScaler(feature_range=(0, 1))\n",
        "x_train_norm = scaler.fit_transform(x_train)\n",
        "x_train_norm = pd.DataFrame(x_train_norm, index = x_train.index, columns = x_train.columns)\n",
        "x_train_norm.head()"
      ],
      "execution_count": 0,
      "outputs": [
        {
          "output_type": "execute_result",
          "data": {
            "text/html": [
              "<div>\n",
              "<style scoped>\n",
              "    .dataframe tbody tr th:only-of-type {\n",
              "        vertical-align: middle;\n",
              "    }\n",
              "\n",
              "    .dataframe tbody tr th {\n",
              "        vertical-align: top;\n",
              "    }\n",
              "\n",
              "    .dataframe thead th {\n",
              "        text-align: right;\n",
              "    }\n",
              "</style>\n",
              "<table border=\"1\" class=\"dataframe\">\n",
              "  <thead>\n",
              "    <tr style=\"text-align: right;\">\n",
              "      <th></th>\n",
              "      <th>no. of samples</th>\n",
              "      <th>GA</th>\n",
              "      <th>1879</th>\n",
              "      <th>60678</th>\n",
              "      <th>186</th>\n",
              "      <th>54361</th>\n",
              "      <th>111</th>\n",
              "      <th>57826</th>\n",
              "      <th>MEblue</th>\n",
              "      <th>MEturquoise</th>\n",
              "      <th>MEgrey</th>\n",
              "    </tr>\n",
              "    <tr>\n",
              "      <th>IndividualID</th>\n",
              "      <th></th>\n",
              "      <th></th>\n",
              "      <th></th>\n",
              "      <th></th>\n",
              "      <th></th>\n",
              "      <th></th>\n",
              "      <th></th>\n",
              "      <th></th>\n",
              "      <th></th>\n",
              "      <th></th>\n",
              "      <th></th>\n",
              "    </tr>\n",
              "  </thead>\n",
              "  <tbody>\n",
              "    <tr>\n",
              "      <th>17516</th>\n",
              "      <td>0.333333</td>\n",
              "      <td>0.726562</td>\n",
              "      <td>0.477145</td>\n",
              "      <td>0.260105</td>\n",
              "      <td>0.286344</td>\n",
              "      <td>0.399268</td>\n",
              "      <td>0.316339</td>\n",
              "      <td>0.967796</td>\n",
              "      <td>0.770488</td>\n",
              "      <td>0.453396</td>\n",
              "      <td>0.482851</td>\n",
              "    </tr>\n",
              "    <tr>\n",
              "      <th>18359</th>\n",
              "      <td>0.666667</td>\n",
              "      <td>0.859375</td>\n",
              "      <td>0.917675</td>\n",
              "      <td>0.493148</td>\n",
              "      <td>0.274830</td>\n",
              "      <td>0.507739</td>\n",
              "      <td>0.447502</td>\n",
              "      <td>0.237540</td>\n",
              "      <td>0.443376</td>\n",
              "      <td>0.513781</td>\n",
              "      <td>0.701689</td>\n",
              "    </tr>\n",
              "    <tr>\n",
              "      <th>18561</th>\n",
              "      <td>0.333333</td>\n",
              "      <td>0.664062</td>\n",
              "      <td>0.619296</td>\n",
              "      <td>0.515189</td>\n",
              "      <td>0.246807</td>\n",
              "      <td>0.693751</td>\n",
              "      <td>0.454142</td>\n",
              "      <td>0.217050</td>\n",
              "      <td>0.398836</td>\n",
              "      <td>0.326761</td>\n",
              "      <td>0.641410</td>\n",
              "    </tr>\n",
              "    <tr>\n",
              "      <th>18566</th>\n",
              "      <td>0.000000</td>\n",
              "      <td>0.570312</td>\n",
              "      <td>0.301532</td>\n",
              "      <td>0.585491</td>\n",
              "      <td>0.289526</td>\n",
              "      <td>0.886418</td>\n",
              "      <td>0.773487</td>\n",
              "      <td>0.436179</td>\n",
              "      <td>0.346465</td>\n",
              "      <td>0.345577</td>\n",
              "      <td>0.627874</td>\n",
              "    </tr>\n",
              "    <tr>\n",
              "      <th>19116</th>\n",
              "      <td>0.666667</td>\n",
              "      <td>0.859375</td>\n",
              "      <td>0.554637</td>\n",
              "      <td>0.381098</td>\n",
              "      <td>0.381874</td>\n",
              "      <td>0.614738</td>\n",
              "      <td>0.423963</td>\n",
              "      <td>0.587821</td>\n",
              "      <td>0.421978</td>\n",
              "      <td>0.401389</td>\n",
              "      <td>0.790062</td>\n",
              "    </tr>\n",
              "  </tbody>\n",
              "</table>\n",
              "</div>"
            ],
            "text/plain": [
              "              no. of samples        GA      1879     60678       186  \\\n",
              "IndividualID                                                           \n",
              "17516               0.333333  0.726562  0.477145  0.260105  0.286344   \n",
              "18359               0.666667  0.859375  0.917675  0.493148  0.274830   \n",
              "18561               0.333333  0.664062  0.619296  0.515189  0.246807   \n",
              "18566               0.000000  0.570312  0.301532  0.585491  0.289526   \n",
              "19116               0.666667  0.859375  0.554637  0.381098  0.381874   \n",
              "\n",
              "                 54361       111     57826    MEblue  MEturquoise    MEgrey  \n",
              "IndividualID                                                                 \n",
              "17516         0.399268  0.316339  0.967796  0.770488     0.453396  0.482851  \n",
              "18359         0.507739  0.447502  0.237540  0.443376     0.513781  0.701689  \n",
              "18561         0.693751  0.454142  0.217050  0.398836     0.326761  0.641410  \n",
              "18566         0.886418  0.773487  0.436179  0.346465     0.345577  0.627874  \n",
              "19116         0.614738  0.423963  0.587821  0.421978     0.401389  0.790062  "
            ]
          },
          "metadata": {
            "tags": []
          },
          "execution_count": 84
        }
      ]
    },
    {
      "cell_type": "code",
      "metadata": {
        "id": "O-qOWTq8b9UO",
        "colab_type": "code",
        "colab": {}
      },
      "source": [
        "# create y_train(class)with one last GA samples\n",
        "y_train = annoSC2_train.drop_duplicates([\"IndividualID\"])[[\"IndividualID\",\"Group\"]]\n",
        "y_train = y_train.sort_values(by=[\"IndividualID\"])\n",
        "y_train = y_train.set_index(\"IndividualID\")"
      ],
      "execution_count": 0,
      "outputs": []
    },
    {
      "cell_type": "code",
      "metadata": {
        "id": "ebe_WT_Ub9UT",
        "colab_type": "code",
        "colab": {},
        "outputId": "df3e6d04-e560-4e50-f050-19dcac11fc2b"
      },
      "source": [
        "y_train.head()"
      ],
      "execution_count": 0,
      "outputs": [
        {
          "output_type": "execute_result",
          "data": {
            "text/html": [
              "<div>\n",
              "<style scoped>\n",
              "    .dataframe tbody tr th:only-of-type {\n",
              "        vertical-align: middle;\n",
              "    }\n",
              "\n",
              "    .dataframe tbody tr th {\n",
              "        vertical-align: top;\n",
              "    }\n",
              "\n",
              "    .dataframe thead th {\n",
              "        text-align: right;\n",
              "    }\n",
              "</style>\n",
              "<table border=\"1\" class=\"dataframe\">\n",
              "  <thead>\n",
              "    <tr style=\"text-align: right;\">\n",
              "      <th></th>\n",
              "      <th>Group</th>\n",
              "    </tr>\n",
              "    <tr>\n",
              "      <th>IndividualID</th>\n",
              "      <th></th>\n",
              "    </tr>\n",
              "  </thead>\n",
              "  <tbody>\n",
              "    <tr>\n",
              "      <th>17516</th>\n",
              "      <td>PPROM</td>\n",
              "    </tr>\n",
              "    <tr>\n",
              "      <th>18359</th>\n",
              "      <td>Control</td>\n",
              "    </tr>\n",
              "    <tr>\n",
              "      <th>18561</th>\n",
              "      <td>sPTD</td>\n",
              "    </tr>\n",
              "    <tr>\n",
              "      <th>18566</th>\n",
              "      <td>Control</td>\n",
              "    </tr>\n",
              "    <tr>\n",
              "      <th>19116</th>\n",
              "      <td>PPROM</td>\n",
              "    </tr>\n",
              "  </tbody>\n",
              "</table>\n",
              "</div>"
            ],
            "text/plain": [
              "                Group\n",
              "IndividualID         \n",
              "17516           PPROM\n",
              "18359         Control\n",
              "18561            sPTD\n",
              "18566         Control\n",
              "19116           PPROM"
            ]
          },
          "metadata": {
            "tags": []
          },
          "execution_count": 86
        }
      ]
    },
    {
      "cell_type": "markdown",
      "metadata": {
        "id": "0HE3rPjZb9UY",
        "colab_type": "text"
      },
      "source": [
        "<h1>Feature Importance Analysis</h1>\n",
        "\n",
        "Use XGBoost to analyze the impact of each feature on prediction"
      ]
    },
    {
      "cell_type": "code",
      "metadata": {
        "id": "zPryOVRjb9Ub",
        "colab_type": "code",
        "colab": {}
      },
      "source": [
        "y_train_multi = np.where(y_train == 'Control',0,y_train) # 0-> Control , 1 -> PPROM , 2 -> sPTD\n",
        "y_train_multi = np.where(y_train_multi == 'PPROM',1,y_train_multi)\n",
        "y_train_multi = np.where(y_train_multi == 'sPTD',2,y_train_multi)"
      ],
      "execution_count": 0,
      "outputs": []
    },
    {
      "cell_type": "code",
      "metadata": {
        "id": "bd7k-EkNb9Ug",
        "colab_type": "code",
        "colab": {},
        "outputId": "e6af97e9-acfa-4494-eeab-24048693e43c"
      },
      "source": [
        "from xgboost import XGBClassifier\n",
        "\n",
        "model_multi = XGBClassifier()\n",
        "model_multi.fit(x_train, y_train_multi)"
      ],
      "execution_count": 0,
      "outputs": [
        {
          "output_type": "stream",
          "text": [
            "/Users/tianya/anaconda3/lib/python3.7/site-packages/sklearn/preprocessing/label.py:219: DataConversionWarning: A column-vector y was passed when a 1d array was expected. Please change the shape of y to (n_samples, ), for example using ravel().\n",
            "  y = column_or_1d(y, warn=True)\n",
            "/Users/tianya/anaconda3/lib/python3.7/site-packages/sklearn/preprocessing/label.py:252: DataConversionWarning: A column-vector y was passed when a 1d array was expected. Please change the shape of y to (n_samples, ), for example using ravel().\n",
            "  y = column_or_1d(y, warn=True)\n"
          ],
          "name": "stderr"
        },
        {
          "output_type": "execute_result",
          "data": {
            "text/plain": [
              "XGBClassifier(base_score=0.5, booster='gbtree', colsample_bylevel=1,\n",
              "              colsample_bynode=1, colsample_bytree=1, gamma=0,\n",
              "              learning_rate=0.1, max_delta_step=0, max_depth=3,\n",
              "              min_child_weight=1, missing=None, n_estimators=100, n_jobs=1,\n",
              "              nthread=None, objective='multi:softprob', random_state=0,\n",
              "              reg_alpha=0, reg_lambda=1, scale_pos_weight=1, seed=None,\n",
              "              silent=None, subsample=1, verbosity=1)"
            ]
          },
          "metadata": {
            "tags": []
          },
          "execution_count": 88
        }
      ]
    },
    {
      "cell_type": "code",
      "metadata": {
        "id": "r7j0IpHSb9Ul",
        "colab_type": "code",
        "colab": {},
        "outputId": "b3e3c033-51e5-49f9-ad8c-893653f95c99"
      },
      "source": [
        "#Plot feature importance\n",
        "from xgboost import plot_importance\n",
        "from matplotlib import pyplot\n",
        "\n",
        "plot_importance(model_multi,importance_type='gain')\n",
        "pyplot.show()\n",
        "#Image will be a little too crowded to read..but the top 100 genes are stored in a list below"
      ],
      "execution_count": 0,
      "outputs": [
        {
          "output_type": "display_data",
          "data": {
            "image/png": "[encoded data removed]",
            "text/plain": [
              "<Figure size 432x288 with 1 Axes>"
            ]
          },
          "metadata": {
            "tags": [],
            "needs_background": "light"
          }
        }
      ]
    },
    {
      "cell_type": "code",
      "metadata": {
        "id": "HERROGUKb9Uu",
        "colab_type": "code",
        "colab": {}
      },
      "source": [
        "feature_imp_multi = model_multi.get_booster().get_score(importance_type='gain')"
      ],
      "execution_count": 0,
      "outputs": []
    },
    {
      "cell_type": "markdown",
      "metadata": {
        "id": "gQ8HLfWzb9U0",
        "colab_type": "text"
      },
      "source": [
        "<h1>Multiclass SVC Model</h1>"
      ]
    },
    {
      "cell_type": "code",
      "metadata": {
        "id": "9dk9F86nb9U2",
        "colab_type": "code",
        "colab": {},
        "outputId": "5f022cc1-42c6-416b-8b88-03da1ff21922"
      },
      "source": [
        "from sklearn.model_selection import GridSearchCV\n",
        "from sklearn import svm\n",
        "\n",
        "def svc_param_selection(X, y, nfolds):\n",
        "    Cs = [0.001, 0.01, 0.1, 1, 10, 100]\n",
        "    gammas = [0.001, 0.01, 0.1, 1,10]\n",
        "    param_grid = {'C': Cs, 'gamma' : gammas}\n",
        "    grid_search = GridSearchCV(svm.SVC(kernel='rbf'), param_grid, cv=nfolds)\n",
        "    grid_search.fit(X, y)\n",
        "    grid_search.best_params_\n",
        "    return grid_search.best_params_\n",
        "\n",
        "svc_param_selection(x_train, y_train.values.ravel(), 10)"
      ],
      "execution_count": 0,
      "outputs": [
        {
          "output_type": "stream",
          "text": [
            "/Users/tianya/anaconda3/lib/python3.7/site-packages/sklearn/model_selection/_search.py:814: DeprecationWarning: The default of the `iid` parameter will change from True to False in version 0.22 and will be removed in 0.24. This will change numeric results when test-set sizes are unequal.\n",
            "  DeprecationWarning)\n"
          ],
          "name": "stderr"
        },
        {
          "output_type": "execute_result",
          "data": {
            "text/plain": [
              "{'C': 10, 'gamma': 0.1}"
            ]
          },
          "metadata": {
            "tags": []
          },
          "execution_count": 91
        }
      ]
    },
    {
      "cell_type": "code",
      "metadata": {
        "id": "MP1Cdxi8b9U7",
        "colab_type": "code",
        "colab": {},
        "outputId": "a71c6763-7a09-4aae-a1c8-821144bfb3e7"
      },
      "source": [
        "# Cross validation to see the model performance\n",
        "from sklearn.svm import SVC\n",
        "\n",
        "scores = []\n",
        "\n",
        "cv = KFold(n_splits=10, random_state=4266, shuffle=True)\n",
        "\n",
        "for train_index, test_index in cv.split(x_train):\n",
        "    #print(\"Train Index: \", train_index, \"\\n\")\n",
        "    #print(\"Test Index: \", test_index)\n",
        "\n",
        "    X_train = x_train.iloc[train_index]\n",
        "    X_test = x_train.iloc[test_index]\n",
        "    y_train2 = y_train.iloc[train_index]\n",
        "    y_test = y_train.iloc[test_index]\n",
        "    \n",
        "    y_train2 = np.ravel(y_train2)\n",
        "    \n",
        "    svm = SVC(C = 10, kernel='rbf', gamma = 0.1, probability = True)\n",
        "    svm.fit(X_train, y_train2)\n",
        "    scores.append(svm.score(X_test, y_test))\n",
        "\n",
        "print(scores)\n",
        "print(np.mean(scores))"
      ],
      "execution_count": 0,
      "outputs": [
        {
          "output_type": "stream",
          "text": [
            "[0.85, 0.8, 0.75, 0.65, 0.5, 0.65, 0.6842105263157895, 0.6842105263157895, 0.7368421052631579, 0.7368421052631579]\n",
            "0.7042105263157894\n"
          ],
          "name": "stdout"
        }
      ]
    },
    {
      "cell_type": "code",
      "metadata": {
        "id": "J1ZBKjhXb9VB",
        "colab_type": "code",
        "colab": {},
        "outputId": "b2001d1f-12d3-480d-e114-50e1d8a86755"
      },
      "source": [
        "# train the model on entire dataset\n",
        "svm = SVC(C = 10, kernel='rbf', gamma = 0.1, probability = True)\n",
        "svm.fit(x_train, y_train)"
      ],
      "execution_count": 0,
      "outputs": [
        {
          "output_type": "stream",
          "text": [
            "/Users/tianya/anaconda3/lib/python3.7/site-packages/sklearn/utils/validation.py:724: DataConversionWarning: A column-vector y was passed when a 1d array was expected. Please change the shape of y to (n_samples, ), for example using ravel().\n",
            "  y = column_or_1d(y, warn=True)\n"
          ],
          "name": "stderr"
        },
        {
          "output_type": "execute_result",
          "data": {
            "text/plain": [
              "SVC(C=10, cache_size=200, class_weight=None, coef0=0.0,\n",
              "    decision_function_shape='ovr', degree=3, gamma=0.1, kernel='rbf',\n",
              "    max_iter=-1, probability=True, random_state=None, shrinking=True, tol=0.001,\n",
              "    verbose=False)"
            ]
          },
          "metadata": {
            "tags": []
          },
          "execution_count": 95
        }
      ]
    },
    {
      "cell_type": "code",
      "metadata": {
        "id": "UTzAk_dbb9VH",
        "colab_type": "code",
        "colab": {}
      },
      "source": [
        "y_pred = svm.predict_proba(x_test)"
      ],
      "execution_count": 0,
      "outputs": []
    },
    {
      "cell_type": "code",
      "metadata": {
        "id": "imbCWsaHb9VL",
        "colab_type": "code",
        "colab": {},
        "outputId": "1ddb7d46-1cee-4fba-b015-c46ac7ffb438"
      },
      "source": [
        "y_pred"
      ],
      "execution_count": 0,
      "outputs": [
        {
          "output_type": "execute_result",
          "data": {
            "text/plain": [
              "array([[0.07431744, 0.64757304, 0.27810952],\n",
              "       [0.1402476 , 0.63350728, 0.22624512],\n",
              "       [0.80922399, 0.14458059, 0.04619542],\n",
              "       [0.02334791, 0.60676286, 0.36988924],\n",
              "       [0.87030272, 0.09760006, 0.03209722],\n",
              "       [0.51422392, 0.17566083, 0.31011525],\n",
              "       [0.0165272 , 0.56936545, 0.41410735],\n",
              "       [0.01420442, 0.45633642, 0.52945915],\n",
              "       [0.10826357, 0.65188738, 0.23984905],\n",
              "       [0.16869866, 0.60334414, 0.22795719],\n",
              "       [0.14318067, 0.62692351, 0.22989582],\n",
              "       [0.07468862, 0.50091445, 0.42439693],\n",
              "       [0.07475131, 0.49823801, 0.42701069],\n",
              "       [0.70207228, 0.20126267, 0.09666505],\n",
              "       [0.01250325, 0.62002377, 0.36747298],\n",
              "       [0.84643663, 0.11949396, 0.03406942],\n",
              "       [0.1270896 , 0.63793258, 0.23497782],\n",
              "       [0.07703475, 0.6648929 , 0.25807236],\n",
              "       [0.08782728, 0.66239799, 0.24977474],\n",
              "       [0.80861412, 0.13134395, 0.06004193],\n",
              "       [0.01986234, 0.60160729, 0.37853037],\n",
              "       [0.69979558, 0.17551603, 0.12468839],\n",
              "       [0.01172523, 0.60379818, 0.38447659],\n",
              "       [0.67390851, 0.24258146, 0.08351003],\n",
              "       [0.65306012, 0.22984332, 0.11709656],\n",
              "       [0.74917838, 0.18739464, 0.06342698],\n",
              "       [0.70276755, 0.20611956, 0.09111288],\n",
              "       [0.07793649, 0.65106484, 0.27099868],\n",
              "       [0.3745896 , 0.42106639, 0.204344  ],\n",
              "       [0.53569087, 0.21837155, 0.24593758],\n",
              "       [0.84137764, 0.10691339, 0.05170898],\n",
              "       [0.85802687, 0.10616542, 0.03580771],\n",
              "       [0.01408786, 0.60860922, 0.37730292],\n",
              "       [0.14497025, 0.60306458, 0.25196517],\n",
              "       [0.03030979, 0.43937511, 0.5303151 ],\n",
              "       [0.60971193, 0.27842136, 0.11186671],\n",
              "       [0.1125807 , 0.62859634, 0.25882296],\n",
              "       [0.84631743, 0.12085994, 0.03282263],\n",
              "       [0.1209534 , 0.64456515, 0.23448145],\n",
              "       [0.5947077 , 0.25516276, 0.15012954],\n",
              "       [0.85836633, 0.09929029, 0.04234338],\n",
              "       [0.18000137, 0.57018665, 0.24981199],\n",
              "       [0.83625915, 0.11267619, 0.05106465],\n",
              "       [0.81440456, 0.15033391, 0.03526153],\n",
              "       [0.12291532, 0.64114607, 0.23593861],\n",
              "       [0.71394063, 0.18931137, 0.09674801],\n",
              "       [0.00993283, 0.5715634 , 0.41850377],\n",
              "       [0.19492712, 0.56195033, 0.24312255],\n",
              "       [0.86150705, 0.10808604, 0.03040691],\n",
              "       [0.30455849, 0.42542479, 0.27001672],\n",
              "       [0.56912262, 0.30716534, 0.12371204],\n",
              "       [0.86156599, 0.09695962, 0.04147438],\n",
              "       [0.08072829, 0.66018324, 0.25908847],\n",
              "       [0.57246427, 0.29012069, 0.13741504],\n",
              "       [0.84874247, 0.11301531, 0.03824223],\n",
              "       [0.84190324, 0.12884019, 0.02925657],\n",
              "       [0.01975357, 0.59516026, 0.38508617],\n",
              "       [0.79838129, 0.15276086, 0.04885785],\n",
              "       [0.62971459, 0.24568167, 0.12460374],\n",
              "       [0.61910323, 0.22962313, 0.15127364],\n",
              "       [0.85657269, 0.11385141, 0.0295759 ],\n",
              "       [0.73755766, 0.17026188, 0.09218046],\n",
              "       [0.84357083, 0.12276846, 0.03366071],\n",
              "       [0.09055466, 0.66121769, 0.24822765],\n",
              "       [0.01126346, 0.61929624, 0.3694403 ],\n",
              "       [0.84556057, 0.11933574, 0.03510368],\n",
              "       [0.8374959 , 0.12193016, 0.04057394],\n",
              "       [0.54036045, 0.31320667, 0.14643288],\n",
              "       [0.68984479, 0.23331339, 0.07684182],\n",
              "       [0.08472493, 0.65992809, 0.25534698],\n",
              "       [0.11605547, 0.64792898, 0.23601554],\n",
              "       [0.7141076 , 0.20355321, 0.08233919],\n",
              "       [0.10178529, 0.65584223, 0.24237248],\n",
              "       [0.08472672, 0.65230379, 0.26296949],\n",
              "       [0.86132813, 0.10666722, 0.03200464],\n",
              "       [0.84947989, 0.11912492, 0.03139518],\n",
              "       [0.74213541, 0.18373624, 0.07412835],\n",
              "       [0.09462889, 0.65586532, 0.24950579],\n",
              "       [0.81851577, 0.11936934, 0.06211488],\n",
              "       [0.10225619, 0.65591038, 0.24183343],\n",
              "       [0.47073961, 0.27967092, 0.24958947],\n",
              "       [0.1152328 , 0.64953028, 0.23523692],\n",
              "       [0.08076955, 0.64800028, 0.27123017],\n",
              "       [0.79705662, 0.16670556, 0.03623783],\n",
              "       [0.83296592, 0.13188066, 0.03515342],\n",
              "       [0.07636964, 0.65442222, 0.26920814],\n",
              "       [0.11654624, 0.62216831, 0.26128546]])"
            ]
          },
          "metadata": {
            "tags": []
          },
          "execution_count": 97
        }
      ]
    },
    {
      "cell_type": "code",
      "metadata": {
        "id": "DvP7pSTdb9VP",
        "colab_type": "code",
        "colab": {},
        "outputId": "dfbc0c7b-d958-48e0-eca9-3a98976667b1"
      },
      "source": [
        "svm.classes_"
      ],
      "execution_count": 0,
      "outputs": [
        {
          "output_type": "execute_result",
          "data": {
            "text/plain": [
              "array(['Control', 'PPROM', 'sPTD'], dtype=object)"
            ]
          },
          "metadata": {
            "tags": []
          },
          "execution_count": 98
        }
      ]
    },
    {
      "cell_type": "code",
      "metadata": {
        "id": "_xzFRwHob9VT",
        "colab_type": "code",
        "colab": {}
      },
      "source": [
        "pred_df = pd.DataFrame({\n",
        "    \"IndividualID\": x_test.index.values,\n",
        "    \"sPTD\": y_pred[:,2],\n",
        "    \"PPROM\": y_pred[:,1]\n",
        "})\n",
        "\n",
        "pred_df.head()"
      ],
      "execution_count": 0,
      "outputs": []
    },
    {
      "cell_type": "code",
      "metadata": {
        "id": "k6eDweobb9VY",
        "colab_type": "code",
        "colab": {}
      },
      "source": [
        "pred_df.to_csv(DATA/\"preterm_birth_1.csv\",index=False)"
      ],
      "execution_count": 0,
      "outputs": []
    }
  ]
}